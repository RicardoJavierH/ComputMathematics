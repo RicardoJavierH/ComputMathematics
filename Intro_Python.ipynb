{
  "cells": [
    {
      "cell_type": "markdown",
      "metadata": {
        "id": "X7dFeBqtIQTv"
      },
      "source": [
        "#**Introducción al lenguaje de programación Python**\n"
      ]
    },
    {
      "cell_type": "markdown",
      "metadata": {
        "id": "JlUa1ChXP8Xz"
      },
      "source": [
        "# **Generalidades**"
      ]
    },
    {
      "cell_type": "markdown",
      "metadata": {
        "id": "wq3OJtuE1LBI"
      },
      "source": [
        "## Tipos de datos integrados"
      ]
    },
    {
      "cell_type": "markdown",
      "metadata": {
        "id": "LoxXKAqIJGTt"
      },
      "source": [
        "Tipo      | Descripción\n",
        "----------|------------\n",
        "string    | Cadena de texto\n",
        "int       | Número entero\n",
        "float     | Número real\n",
        "bool      | booleano"
      ]
    },
    {
      "cell_type": "markdown",
      "metadata": {
        "id": "TPSD9dOTL0wP"
      },
      "source": [
        "## **Variables** \n",
        "Símbolo que nos permite obtener información referente al lugar de almacenamiento de un dato en memoria"
      ]
    },
    {
      "cell_type": "code",
      "execution_count": 31,
      "metadata": {
        "id": "PMVHtQU_MpCc"
      },
      "outputs": [],
      "source": [
        "nom = \"Adalberto\"\n",
        "apell = 'Zamora'"
      ]
    },
    {
      "cell_type": "code",
      "execution_count": 32,
      "metadata": {
        "colab": {
          "base_uri": "https://localhost:8080/"
        },
        "id": "hpmQXQ7eNPS8",
        "outputId": "30c9b34e-1e66-4aa0-a9fe-d120b6bc2d73"
      },
      "outputs": [
        {
          "name": "stdout",
          "output_type": "stream",
          "text": [
            "Adalberto\n",
            "Zamora\n"
          ]
        }
      ],
      "source": [
        "print(nom)\n",
        "print(apell)"
      ]
    },
    {
      "cell_type": "code",
      "execution_count": 33,
      "metadata": {
        "colab": {
          "base_uri": "https://localhost:8080/"
        },
        "id": "8xI2yegDNnOj",
        "outputId": "5ebf0416-31ef-4bb0-ce31-e91482d3487d"
      },
      "outputs": [
        {
          "data": {
            "text/plain": [
              "str"
            ]
          },
          "execution_count": 33,
          "metadata": {},
          "output_type": "execute_result"
        }
      ],
      "source": [
        "type(nom)"
      ]
    },
    {
      "cell_type": "markdown",
      "metadata": {
        "id": "oNY7qqXfPm0b"
      },
      "source": [
        "## **Operadores ariméticos y operadores lógicos**"
      ]
    },
    {
      "cell_type": "markdown",
      "metadata": {
        "id": "hvf5lX2IQGZl"
      },
      "source": [
        "Descripción  | Operador\n",
        "-------------|-------------\n",
        "Suma         | +\n",
        "Diferencia   | -\n",
        "Producto     | *\n",
        "División     | /\n",
        "Potencia     | **\n",
        "Módulo       | %\n",
        "Disyunción   | or\n",
        "Conjunción   | and\n",
        "Negación     | not"
      ]
    },
    {
      "cell_type": "markdown",
      "metadata": {
        "id": "Yw94yjJaRmfi"
      },
      "source": [
        "## **Inserción de código LaTex**"
      ]
    },
    {
      "cell_type": "markdown",
      "metadata": {
        "id": "e0CZtsfiRvdp"
      },
      "source": [
        "$x=\\frac{\\sqrt{b^{2}-4ac}}{2a}$"
      ]
    },
    {
      "cell_type": "markdown",
      "metadata": {
        "id": "gamtukUIR5jJ"
      },
      "source": [
        "## Funciones integradas  \n",
        "[Referencia](https://docs.python.org/pt-br/3/library/functions.html)\n"
      ]
    },
    {
      "cell_type": "code",
      "execution_count": 34,
      "metadata": {
        "colab": {
          "base_uri": "https://localhost:8080/"
        },
        "id": "v4aLZ6gAXTnY",
        "outputId": "1d5e754d-5546-45c3-bd2f-0b4e188f80de"
      },
      "outputs": [
        {
          "name": "stdout",
          "output_type": "stream",
          "text": [
            "3.1415\n"
          ]
        }
      ],
      "source": [
        "x = -3.1415\n",
        "y = abs(x) # función valor absoluto\n",
        "print(y)"
      ]
    },
    {
      "cell_type": "code",
      "execution_count": 35,
      "metadata": {
        "colab": {
          "base_uri": "https://localhost:8080/"
        },
        "id": "WvoMYbcUX2jP",
        "outputId": "11ab1447-d936-4926-9d81-d8c8f22eef53"
      },
      "outputs": [
        {
          "name": "stdout",
          "output_type": "stream",
          "text": [
            "8\n"
          ]
        }
      ],
      "source": [
        "x = 2\n",
        "y = 3\n",
        "z = pow(x,y) # función potencia\n",
        "print(z)"
      ]
    },
    {
      "cell_type": "code",
      "execution_count": 36,
      "metadata": {
        "colab": {
          "base_uri": "https://localhost:8080/"
        },
        "id": "tKzcZ6LLZL7m",
        "outputId": "710fdfc5-194e-4ea1-bd5c-96a0d8d5f9d5"
      },
      "outputs": [
        {
          "name": "stdout",
          "output_type": "stream",
          "text": [
            "3\n"
          ]
        }
      ],
      "source": [
        "m = max(x,y) # función máximo\n",
        "print(m)"
      ]
    },
    {
      "cell_type": "code",
      "execution_count": 37,
      "metadata": {
        "colab": {
          "base_uri": "https://localhost:8080/"
        },
        "id": "fqGqgBpPbu5G",
        "outputId": "846c21f8-afb3-4744-b5fe-2b1cd6ed6bce"
      },
      "outputs": [
        {
          "name": "stdout",
          "output_type": "stream",
          "text": [
            "0x19\n"
          ]
        },
        {
          "data": {
            "text/plain": [
              "str"
            ]
          },
          "execution_count": 37,
          "metadata": {},
          "output_type": "execute_result"
        }
      ],
      "source": [
        "h = hex(25) # función que convierte a hexadecimal en forma string\n",
        "print(h)\n",
        "type(h)"
      ]
    },
    {
      "cell_type": "markdown",
      "metadata": {
        "id": "jEHwWuLb2qZX"
      },
      "source": [
        "**Más información sobre tipos, operaciones y funciones integradas**\n",
        "[enlace](https://docs.python.org/es/3/library/stdtypes.html#list)"
      ]
    },
    {
      "cell_type": "markdown",
      "metadata": {
        "id": "65WuhWQfffbn"
      },
      "source": [
        "## **Funciones matemáticas del módulo math** \n",
        "[Módulo math](https://docs.python.org/es/3/library/math.html)\n",
        "\n"
      ]
    },
    {
      "cell_type": "code",
      "execution_count": 38,
      "metadata": {
        "colab": {
          "base_uri": "https://localhost:8080/"
        },
        "id": "mdUM7oQigRUX",
        "outputId": "a7578e8f-e42b-47d4-a328-0bfbc2ca08d5"
      },
      "outputs": [
        {
          "data": {
            "text/plain": [
              "120"
            ]
          },
          "execution_count": 38,
          "metadata": {},
          "output_type": "execute_result"
        }
      ],
      "source": [
        "import math # carga el módulo de funciones math\n",
        "math.factorial(5)"
      ]
    },
    {
      "cell_type": "code",
      "execution_count": 39,
      "metadata": {
        "colab": {
          "base_uri": "https://localhost:8080/"
        },
        "id": "I2siif1UhYir",
        "outputId": "ec871852-289c-4d52-9166-9d0319edaf21"
      },
      "outputs": [
        {
          "data": {
            "text/plain": [
              "3"
            ]
          },
          "execution_count": 39,
          "metadata": {},
          "output_type": "execute_result"
        }
      ],
      "source": [
        "math.gcd(15,36) # máximo común divisor de dos números enteros"
      ]
    },
    {
      "cell_type": "code",
      "execution_count": 40,
      "metadata": {
        "colab": {
          "base_uri": "https://localhost:8080/"
        },
        "id": "vJaKVjGwh9jV",
        "outputId": "03d1c41e-3a69-43ab-e325-fc68e62843cc"
      },
      "outputs": [
        {
          "data": {
            "text/plain": [
              "2.718281828459045"
            ]
          },
          "execution_count": 40,
          "metadata": {},
          "output_type": "execute_result"
        }
      ],
      "source": [
        "math.exp(1) # función exponencial base e"
      ]
    },
    {
      "cell_type": "markdown",
      "metadata": {
        "id": "OydaK5SxK0JS"
      },
      "source": [
        "# Estructura de datos en Python \n",
        "Recuperado de [enlace](https://towardsdatascience.com/which-python-data-structure-should-you-use-fa1edd82946c)\n",
        "<img src=\"https://miro.medium.com/max/1400/1*2JFd94q0vzsEcr-LB-220g.png\">"
      ]
    },
    {
      "cell_type": "markdown",
      "metadata": {
        "id": "vVphYfhuHMZz"
      },
      "source": [
        "##**Lista** \n",
        "Estructura que permite almacenar elementos de diferentes tipos. Esto hace que las listas sean poderosas porque le permiten crear estructuras de datos profundas y complejas. ¡Es mutable! [referencia](https://docs.python.org/es/3/library/stdtypes.html#list)"
      ]
    },
    {
      "cell_type": "code",
      "execution_count": 41,
      "metadata": {
        "colab": {
          "base_uri": "https://localhost:8080/"
        },
        "id": "rms2kggaSk8C",
        "outputId": "3e2863e5-1a6a-42ea-b703-db5898f379ca"
      },
      "outputs": [
        {
          "name": "stdout",
          "output_type": "stream",
          "text": [
            "<class 'list'>\n",
            "1\n",
            "Jorge\n",
            "True\n"
          ]
        }
      ],
      "source": [
        "lista = [ 1, \"Jorge\", True] # Esto es un objeto de la estructura lista\n",
        "print(type(lista))\n",
        "print(lista[0]) # imprime la entrada con índice cero\n",
        "print(lista[1])\n",
        "print(lista[2])"
      ]
    },
    {
      "cell_type": "code",
      "execution_count": 42,
      "metadata": {
        "colab": {
          "base_uri": "https://localhost:8080/"
        },
        "id": "IS9zzeBtj_6k",
        "outputId": "119b6ed6-c86e-466f-f533-456f0c58b036"
      },
      "outputs": [
        {
          "name": "stdout",
          "output_type": "stream",
          "text": [
            "pepe\n",
            "[1, 'Jorge', True]\n"
          ]
        }
      ],
      "source": [
        "lista2 = [255, \"pepe\", lista] # lista dentro de lista\n",
        "print(lista2[1])\n",
        "print(lista2[2])"
      ]
    },
    {
      "cell_type": "markdown",
      "metadata": {
        "id": "D7uWE_p5lIMs"
      },
      "source": [
        "##**Métodos y funciones para listas**\n",
        "Un método es una función que \"pertenece\" a un objeto"
      ]
    },
    {
      "cell_type": "code",
      "execution_count": 43,
      "metadata": {
        "colab": {
          "base_uri": "https://localhost:8080/"
        },
        "id": "x6_Won9vnXer",
        "outputId": "148949d1-e9e7-4293-edc8-345143fe5387"
      },
      "outputs": [
        {
          "name": "stdout",
          "output_type": "stream",
          "text": [
            "[12, 13, 23, 23, 25, 45]\n"
          ]
        }
      ],
      "source": [
        "edades = [25, 23, 12, 45, 13, 23]\n",
        "edades.sort() # método sort \n",
        "print(edades)"
      ]
    },
    {
      "cell_type": "code",
      "execution_count": 44,
      "metadata": {
        "colab": {
          "base_uri": "https://localhost:8080/"
        },
        "id": "EtrRY2zXzyPA",
        "outputId": "0c3f6c2c-f5b0-4492-ee7d-c3b229292f23"
      },
      "outputs": [
        {
          "data": {
            "text/plain": [
              "2"
            ]
          },
          "execution_count": 44,
          "metadata": {},
          "output_type": "execute_result"
        }
      ],
      "source": [
        "edades.count(23) # el método count devuelve el número de ocurrencias de un objeto dentro una lista"
      ]
    },
    {
      "cell_type": "code",
      "execution_count": 45,
      "metadata": {
        "colab": {
          "base_uri": "https://localhost:8080/"
        },
        "id": "X4yS9r53n6-N",
        "outputId": "4c3d48f9-8252-47b8-dfc8-2476873abf84"
      },
      "outputs": [
        {
          "name": "stdout",
          "output_type": "stream",
          "text": [
            "[12, 13, 23, 23, 25, 45]\n"
          ]
        }
      ],
      "source": [
        "edades2 = [25, 23, 12, 45, 13, 23]\n",
        "edades3 = sorted(edades2) # función \"sorted\" incorporada en Python\n",
        "print(edades3)"
      ]
    },
    {
      "cell_type": "code",
      "execution_count": 46,
      "metadata": {
        "colab": {
          "base_uri": "https://localhost:8080/"
        },
        "id": "KwVOmSvopQSr",
        "outputId": "0a84f8c6-3ad2-4e06-8245-c1def66ee81f"
      },
      "outputs": [
        {
          "name": "stdout",
          "output_type": "stream",
          "text": [
            "[33.0, 20.5, 18.7, 12.3]\n"
          ]
        }
      ],
      "source": [
        "pesos = [20.5, 33.0, 12.3, 18.7]\n",
        "pesos.sort(reverse=True)\n",
        "print(pesos)"
      ]
    },
    {
      "cell_type": "code",
      "execution_count": 47,
      "metadata": {
        "colab": {
          "base_uri": "https://localhost:8080/"
        },
        "id": "wemfnAlbqylj",
        "outputId": "835c61d7-b6f6-492c-a69b-40deca60d611"
      },
      "outputs": [
        {
          "name": "stdout",
          "output_type": "stream",
          "text": [
            "['triangulo', 'cuadrado', 'trapecio']\n",
            "['triangulo', 'cuadrado', 'trapecio', 'rombo']\n",
            "['rombo', 'trapecio', 'cuadrado', 'triangulo']\n"
          ]
        }
      ],
      "source": [
        "poligonos = [\"triangulo\", \"cuadrado\", \"trapecio\"]\n",
        "print(poligonos)\n",
        "poligonos.append(\"rombo\") # el método append sirve para añadir elementos a la lista\n",
        "print(poligonos)\n",
        "poligonos.reverse()\n",
        "print(poligonos)"
      ]
    },
    {
      "cell_type": "code",
      "execution_count": 48,
      "metadata": {
        "colab": {
          "base_uri": "https://localhost:8080/"
        },
        "id": "V6VekHWBt5Rb",
        "outputId": "b04e7db5-a1b2-4105-94cd-1d2401b9d66c"
      },
      "outputs": [
        {
          "name": "stdout",
          "output_type": "stream",
          "text": [
            "['rombo', 'trapecio', 'cuadrado', 'triangulo', ['hexagono', 'pentágono']]\n",
            "['rectangulo', 'rombo', 'trapecio', 'cuadrado', 'triangulo', ['hexagono', 'pentágono']]\n"
          ]
        }
      ],
      "source": [
        "otros = [\"hexagono\", \"pentágono\"]\n",
        "poligonos.append(otros)\n",
        "print(poligonos)\n",
        "poligonos.insert(0,\"rectangulo\")\n",
        "print(poligonos)\n"
      ]
    },
    {
      "cell_type": "code",
      "execution_count": 49,
      "metadata": {
        "colab": {
          "base_uri": "https://localhost:8080/"
        },
        "id": "Dr4GWZ5c0Jlw",
        "outputId": "8ece6f7b-2c9e-4391-a2a1-d7fb361d4178"
      },
      "outputs": [
        {
          "name": "stdout",
          "output_type": "stream",
          "text": [
            "['rectangulo', 'rombo', 'trapecio', 'triangulo', ['hexagono', 'pentágono']]\n"
          ]
        }
      ],
      "source": [
        "poligonos.remove(\"cuadrado\")\n",
        "print(poligonos)"
      ]
    },
    {
      "cell_type": "code",
      "execution_count": 50,
      "metadata": {
        "colab": {
          "base_uri": "https://localhost:8080/"
        },
        "id": "m00ShbHu0bpt",
        "outputId": "473b883b-c3ca-46d4-90ee-6f8c30f7b392"
      },
      "outputs": [
        {
          "data": {
            "text/plain": [
              "5"
            ]
          },
          "execution_count": 50,
          "metadata": {},
          "output_type": "execute_result"
        }
      ],
      "source": [
        "len(poligonos)"
      ]
    },
    {
      "cell_type": "code",
      "execution_count": 51,
      "metadata": {
        "colab": {
          "base_uri": "https://localhost:8080/"
        },
        "id": "IOHf8nRi5b23",
        "outputId": "48cc0955-b83d-4b9a-8c4b-e1e3dc99abde"
      },
      "outputs": [
        {
          "name": "stdout",
          "output_type": "stream",
          "text": [
            "['a', 'b', 'c', 'c', 'd']\n",
            "['c', 'd', 'a', 'b', 'c']\n"
          ]
        }
      ],
      "source": [
        "list3 = [\"a\", \"b\", \"c\"]\n",
        "list4 = [\"c\", \"d\"]\n",
        "concat1 = list3 + list4 \n",
        "print(concat1)\n",
        "concat2 = list4 + list3\n",
        "print(concat2)"
      ]
    },
    {
      "cell_type": "markdown",
      "metadata": {
        "id": "ueZaOq885GcG"
      },
      "source": [
        "## Tupla\n",
        "Estructura similar a la estructura lista, sin embargo es inmutable.\n",
        "[referencia](https://docs.python.org/es/3/library/stdtypes.html#tuple)"
      ]
    },
    {
      "cell_type": "code",
      "execution_count": 52,
      "metadata": {
        "colab": {
          "base_uri": "https://localhost:8080/"
        },
        "id": "LN6Tdh2o60yu",
        "outputId": "71d8575d-9310-4ae2-b6f2-0066cf48241b"
      },
      "outputs": [
        {
          "name": "stdout",
          "output_type": "stream",
          "text": [
            "<class 'tuple'>\n",
            "a\n"
          ]
        }
      ],
      "source": [
        "tupla = (\"a\",\"b\",\"c\")\n",
        "print(type(tupla))\n",
        "print(tupla[0])"
      ]
    },
    {
      "cell_type": "code",
      "execution_count": 53,
      "metadata": {
        "colab": {
          "base_uri": "https://localhost:8080/"
        },
        "id": "r1C0Kb60_j07",
        "outputId": "6f963680-f850-4d03-9994-00f5fd2bb210"
      },
      "outputs": [
        {
          "data": {
            "text/plain": [
              "1"
            ]
          },
          "execution_count": 53,
          "metadata": {},
          "output_type": "execute_result"
        }
      ],
      "source": [
        "tupla.index(\"b\")"
      ]
    },
    {
      "cell_type": "code",
      "execution_count": 54,
      "metadata": {
        "colab": {
          "base_uri": "https://localhost:8080/",
          "height": 165
        },
        "id": "fItPw1mJ8Oke",
        "outputId": "f711f490-102b-4de0-c22b-0f5ad19d8ee6"
      },
      "outputs": [
        {
          "ename": "TypeError",
          "evalue": "'tuple' object does not support item assignment",
          "output_type": "error",
          "traceback": [
            "\u001b[1;31m---------------------------------------------------------------------------\u001b[0m",
            "\u001b[1;31mTypeError\u001b[0m                                 Traceback (most recent call last)",
            "\u001b[1;32md:\\PythonProjects\\Intro_Python.ipynb Celda 40\u001b[0m in \u001b[0;36m<cell line: 1>\u001b[1;34m()\u001b[0m\n\u001b[1;32m----> <a href='vscode-notebook-cell:/d%3A/PythonProjects/Intro_Python.ipynb#X54sZmlsZQ%3D%3D?line=0'>1</a>\u001b[0m tupla[\u001b[39m0\u001b[39m]\u001b[39m=\u001b[39m\u001b[39m\"\u001b[39m\u001b[39md\u001b[39m\u001b[39m\"\u001b[39m\n",
            "\u001b[1;31mTypeError\u001b[0m: 'tuple' object does not support item assignment"
          ]
        }
      ],
      "source": [
        "tupla[0]=\"d\" # ERROR, es inmutable!"
      ]
    },
    {
      "cell_type": "markdown",
      "metadata": {
        "id": "zqF0zbQr9-c9"
      },
      "source": [
        "## Rango\n",
        "Estructura para almacenar sucesiones finitas de números enteros. Es inmutable!.\n",
        "[Referencia](https://docs.python.org/es/3/library/stdtypes.html#tuple)"
      ]
    },
    {
      "cell_type": "code",
      "execution_count": null,
      "metadata": {
        "id": "pUQVNVJb9kK9"
      },
      "outputs": [],
      "source": [
        "sucesion = range(5)\n",
        "print(type(sucesion))\n",
        "print(sucesion[0])\n",
        "print(sucesion[1])\n",
        "print(sucesion[2])\n",
        "print(sucesion[3])\n",
        "print(sucesion[4])\n",
        "len(sucesion)"
      ]
    },
    {
      "cell_type": "code",
      "execution_count": null,
      "metadata": {
        "id": "20gQN-pw_xdM"
      },
      "outputs": [],
      "source": [
        "print(sucesion[0]) "
      ]
    },
    {
      "cell_type": "code",
      "execution_count": null,
      "metadata": {
        "id": "DVQdTLJ9AuRT"
      },
      "outputs": [],
      "source": [
        "rango = range(3,11,2)\n",
        "print(rango)"
      ]
    },
    {
      "cell_type": "code",
      "execution_count": null,
      "metadata": {
        "id": "PyujLI-dBnNk"
      },
      "outputs": [],
      "source": [
        "a = list(rango) # Convierte en lista\n",
        "print(type(a))"
      ]
    },
    {
      "cell_type": "code",
      "execution_count": null,
      "metadata": {
        "id": "E2UI9SZXCOe1"
      },
      "outputs": [],
      "source": [
        "propos = 3 in rango  \n",
        "print(propos)"
      ]
    },
    {
      "cell_type": "markdown",
      "metadata": {
        "id": "hO8l9fbmCrL7"
      },
      "source": [
        "## Array\n",
        "Estructura que almacena datos numéricos. Es mutable. [referencia](https://docs.python.org/es/3/library/array.html?highlight=array#module-array)"
      ]
    },
    {
      "cell_type": "code",
      "execution_count": null,
      "metadata": {
        "id": "LxKe9gsmDqWm"
      },
      "outputs": [],
      "source": [
        "from array import array\n",
        "a = array('l',[1, 2, 3, 4, 5])\n",
        "type(a)\n",
        "suma = a[0]+a[4]"
      ]
    },
    {
      "cell_type": "code",
      "execution_count": null,
      "metadata": {
        "id": "DAYco9l9HdqC"
      },
      "outputs": [],
      "source": [
        "type(suma)"
      ]
    },
    {
      "cell_type": "code",
      "execution_count": null,
      "metadata": {
        "id": "kVTXeNYoHABr"
      },
      "outputs": [],
      "source": [
        "import array as arr \n",
        "numbers = arr.array('i',[10,20,30])\n",
        "type(numbers)"
      ]
    },
    {
      "cell_type": "code",
      "execution_count": null,
      "metadata": {
        "id": "VY6Ff-g-IAXK"
      },
      "outputs": [],
      "source": [
        "numbers[0]=100\n",
        "print(numbers)"
      ]
    },
    {
      "cell_type": "markdown",
      "metadata": {
        "id": "51wF8T8C8-Bv"
      },
      "source": [
        "## Conjunto (set)\n",
        "Estructura de datos con almacenamiento y operaciones similar al de los conjuntos matemáticos. \n",
        "[Referencia](https://www.w3schools.com/python/python_sets.asp)\n"
      ]
    },
    {
      "cell_type": "code",
      "execution_count": null,
      "metadata": {
        "id": "Ja9eASn9-F2X"
      },
      "outputs": [],
      "source": [
        "A1 = {\"rojo\", \"verde\", \"azul\"}\n",
        "A2 = {\"verde\", \"negro\", \"amarillo\"}\n",
        "print(type(A1))"
      ]
    },
    {
      "cell_type": "code",
      "execution_count": null,
      "metadata": {
        "id": "fdv4p07YAQjf"
      },
      "outputs": [],
      "source": [
        "A3 = A1.intersection(A2)\n",
        "print(A3)"
      ]
    },
    {
      "cell_type": "code",
      "execution_count": null,
      "metadata": {
        "id": "-Vaq0efFCDqo"
      },
      "outputs": [],
      "source": [
        "A4 = A1.difference(A2)\n",
        "print(A4)"
      ]
    },
    {
      "cell_type": "code",
      "execution_count": null,
      "metadata": {
        "id": "6z6AUaO6E5tl"
      },
      "outputs": [],
      "source": [
        "len(A4)"
      ]
    },
    {
      "cell_type": "code",
      "execution_count": null,
      "metadata": {
        "id": "mz1ESHC2-i_5"
      },
      "outputs": [],
      "source": [
        "B =set([1, 2, 3]) # crea un conjunto a partir de una lista\n",
        "print(B)"
      ]
    },
    {
      "cell_type": "code",
      "execution_count": null,
      "metadata": {
        "id": "enYhJ-AR_JUR"
      },
      "outputs": [],
      "source": [
        "C = set(range(4,7))\n",
        "print(C)"
      ]
    },
    {
      "cell_type": "code",
      "execution_count": null,
      "metadata": {
        "id": "dPd3UJGO_hCO"
      },
      "outputs": [],
      "source": [
        "tupla = (3,7,5)\n",
        "sec = range(2,8,2)\n",
        "D = {\"pepe\", True, tupla, sec}\n",
        "print(D)"
      ]
    },
    {
      "cell_type": "code",
      "execution_count": null,
      "metadata": {
        "id": "NyipyC2hBQkm"
      },
      "outputs": [],
      "source": [
        "D.add(100)\n",
        "print(D)"
      ]
    },
    {
      "cell_type": "code",
      "execution_count": null,
      "metadata": {
        "id": "s4hxKGofDbR-"
      },
      "outputs": [],
      "source": [
        "prop1 = tupla in D\n",
        "print(prop1)"
      ]
    },
    {
      "cell_type": "code",
      "execution_count": null,
      "metadata": {
        "id": "sCe_rRBeD1JH"
      },
      "outputs": [],
      "source": [
        "prop1 = tupla not in D\n",
        "print(prop1)"
      ]
    },
    {
      "cell_type": "markdown",
      "metadata": {
        "id": "1-0q1y2NKegE"
      },
      "source": [
        "## Diccionario\n",
        "Estructura de datos que almacenan datos en pares Clave-Valor.\n",
        "[Referencia](https://www.w3schools.com/python/python_dictionaries.asp)"
      ]
    },
    {
      "cell_type": "code",
      "execution_count": null,
      "metadata": {
        "id": "BcQZtOq9L-hT"
      },
      "outputs": [],
      "source": [
        "capit = {\"Perú\" : \"Lima\", \"Brasil\" : \"Brasilia\", \"Argentina\" : \"Buenos Aires\"}\n",
        "print(type(capit))\n",
        "print(capit[\"Perú\"])\n",
        "print(capit[\"Argentina\"])"
      ]
    },
    {
      "cell_type": "code",
      "execution_count": null,
      "metadata": {
        "id": "eqnMA1K6RKFE"
      },
      "outputs": [],
      "source": [
        "capit.keys()"
      ]
    },
    {
      "cell_type": "code",
      "execution_count": null,
      "metadata": {
        "id": "E4iXwNpYRaYa"
      },
      "outputs": [],
      "source": [
        "capit.values()"
      ]
    },
    {
      "cell_type": "code",
      "execution_count": null,
      "metadata": {
        "id": "EfiU5qYtSF8D"
      },
      "outputs": [],
      "source": [
        "pikachuAttacks = [\"choque de truenos\",\"látigo de cola\",\"ataque rápido\"]\n",
        "charmanderAttacks = [\"lanzallamas\", \"cara de miedo\"]\n",
        "chikoritaAttacks = [\"navaja\", \"veneno en polvo\"]\n",
        "pokedex = {\"pikachu\" : pikachuAttacks, \"charmander\" : charmanderAttacks}\n",
        "print(pokedex)"
      ]
    },
    {
      "cell_type": "code",
      "execution_count": null,
      "metadata": {
        "id": "qsfvZTOWUxuR"
      },
      "outputs": [],
      "source": [
        "par = {\"chikorita\" : chikoritaAttacks}\n",
        "pokedex.update(par)\n",
        "print(pokedex)"
      ]
    },
    {
      "cell_type": "code",
      "execution_count": null,
      "metadata": {
        "id": "bX9M6fcoVGxJ"
      },
      "outputs": [],
      "source": [
        "pokedex[\"pikachu\"][0]\n",
        "pokedex[\"pikachu\"][1]\n",
        "pokedex[\"pikachu\"][2]"
      ]
    },
    {
      "cell_type": "markdown",
      "metadata": {
        "id": "7v3XXGonH4mq"
      },
      "source": [
        "# Librería numpy\n",
        "Da soporte para crear vectores y matrices multidimensionales grandes, contiene una gran colección de funciones matemáticas de alto nivel para operar con ellas.\n",
        "\n",
        "<img src=\"https://aprendeconalf.es/docencia/python/manual/img/numpy-logo.png\">"
      ]
    },
    {
      "cell_type": "markdown",
      "metadata": {
        "id": "viUQ-MQxjP9l"
      },
      "source": [
        "## Clase ndarray\n",
        "Contiene las estructuras de datos para almacenar las matrices multidimensionales de datos homogéneos (todos los elementos de una matriz que tienen el mismo tipo de datos).\n",
        "[Referencia](https://numpy.org/doc/stable/reference/generated/numpy.array.html)"
      ]
    },
    {
      "cell_type": "code",
      "execution_count": null,
      "metadata": {
        "id": "eyFjylRhat2U"
      },
      "outputs": [],
      "source": [
        "import numpy as np \n",
        "mat1 = np.array([1,2,3])\n",
        "print(type(mat1))\n",
        "print(mat1)\n"
      ]
    },
    {
      "cell_type": "code",
      "execution_count": null,
      "metadata": {
        "id": "Uy0wl8Qmf7IG"
      },
      "outputs": [],
      "source": [
        "mat2 = np.array([[1,2,3],[4,5,6]])\n",
        "print(mat2)"
      ]
    },
    {
      "cell_type": "markdown",
      "metadata": {
        "id": "TBlJQv8UmHAP"
      },
      "source": [
        "##Acceso a las entradas de una matriz"
      ]
    },
    {
      "cell_type": "code",
      "execution_count": null,
      "metadata": {
        "id": "LJ8Dk_5hhWoI"
      },
      "outputs": [],
      "source": [
        "(mat2[0,0]+mat2[0,2])*mat2[1,1] # operación con algunas entradas de la matriz mat2"
      ]
    },
    {
      "cell_type": "markdown",
      "metadata": {
        "id": "Fq5QyxmmqU9u"
      },
      "source": [
        "##Atributos básicos de la clase ndarray\n",
        "Un atributo de una clase, es una información referente al objeto creado en base dicha clase (instancia de una clase). "
      ]
    },
    {
      "cell_type": "markdown",
      "metadata": {
        "id": "GReaNUUstDoh"
      },
      "source": [
        "Atributo   |      Descripción\n",
        "-----------|------------------------------------------------------------------\n",
        "Shape      |Tupla que contiene el número de elementos en cada eje de la matriz.\n",
        "Size       |Número total de elementos en la matriz.\n",
        "nbytes     |Número de bytes utilizados para almacenar los datos.\n",
        "dtype      |Tipo de dato de los elementos en la matriz. "
      ]
    },
    {
      "cell_type": "markdown",
      "metadata": {
        "id": "KpvftdwuwutE"
      },
      "source": [
        "<img src=\"https://predictivehacks.com/wp-content/uploads/2020/08/numpy_arrays-1024x572.png\">\n"
      ]
    },
    {
      "cell_type": "code",
      "execution_count": null,
      "metadata": {
        "id": "hv4fYjIlxUFb"
      },
      "outputs": [],
      "source": [
        "matriz = np.array([[1, 2], [3, 4], [5, 6]])\n",
        "print(type(matriz))\n",
        "print(matriz)"
      ]
    },
    {
      "cell_type": "code",
      "execution_count": null,
      "metadata": {
        "id": "3OUIg3SpyBzz"
      },
      "outputs": [],
      "source": [
        "matriz.shape"
      ]
    },
    {
      "cell_type": "code",
      "execution_count": null,
      "metadata": {
        "id": "-Z7qQoiTqr_W"
      },
      "outputs": [],
      "source": [
        "matriz.size"
      ]
    },
    {
      "cell_type": "code",
      "execution_count": null,
      "metadata": {
        "id": "wOswLuw5qzuU"
      },
      "outputs": [],
      "source": [
        "matriz.dtype"
      ]
    },
    {
      "cell_type": "code",
      "execution_count": null,
      "metadata": {
        "id": "fduQ3Hekrq2r"
      },
      "outputs": [],
      "source": [
        "matriz.nbytes"
      ]
    },
    {
      "cell_type": "markdown",
      "metadata": {
        "id": "RNKJdLXkGx8P"
      },
      "source": [
        "#Misceleanea sobre construcción de matrices en numpy"
      ]
    },
    {
      "cell_type": "code",
      "execution_count": null,
      "metadata": {
        "colab": {
          "base_uri": "https://localhost:8080/"
        },
        "id": "efbewqHSHQCw",
        "outputId": "512f339c-66fa-4c51-fa78-06a34a1ccedf"
      },
      "outputs": [
        {
          "name": "stdout",
          "output_type": "stream",
          "text": [
            "[[0 0 0]\n",
            " [0 0 0]]\n"
          ]
        }
      ],
      "source": [
        "mat1 = np.zeros((2,3), dtype=np.int32)\n",
        "print(mat1)"
      ]
    },
    {
      "cell_type": "code",
      "execution_count": null,
      "metadata": {
        "colab": {
          "base_uri": "https://localhost:8080/"
        },
        "id": "r3VclSkrIUev",
        "outputId": "04eb18b5-71be-431a-ab5a-97a81faa33f0"
      },
      "outputs": [
        {
          "name": "stdout",
          "output_type": "stream",
          "text": [
            "[1. 1. 1.]\n"
          ]
        }
      ],
      "source": [
        "mat2 = np.ones(3,dtype = np.float32)\n",
        "print(mat2)"
      ]
    },
    {
      "cell_type": "code",
      "execution_count": null,
      "metadata": {
        "colab": {
          "base_uri": "https://localhost:8080/"
        },
        "id": "WgBh3wOTJp0U",
        "outputId": "aab7cd62-f40e-4078-88ea-5005476feb5f"
      },
      "outputs": [
        {
          "name": "stdout",
          "output_type": "stream",
          "text": [
            "[[17. 17.]\n",
            " [17. 17.]\n",
            " [17. 17.]]\n"
          ]
        }
      ],
      "source": [
        "mat3 = 17*np.ones((3,2))\n",
        "print(mat3)"
      ]
    },
    {
      "cell_type": "code",
      "execution_count": null,
      "metadata": {
        "colab": {
          "base_uri": "https://localhost:8080/"
        },
        "id": "3QkpfzqqKTun",
        "outputId": "4dd8e180-c2dd-468e-88e7-9a16477d5faf"
      },
      "outputs": [
        {
          "name": "stdout",
          "output_type": "stream",
          "text": [
            "[[257]\n",
            " [257]\n",
            " [257]]\n"
          ]
        }
      ],
      "source": [
        "mat4 = np.empty((3,1), dtype=np.int16)\n",
        "print(mat4)"
      ]
    },
    {
      "cell_type": "code",
      "execution_count": null,
      "metadata": {
        "colab": {
          "base_uri": "https://localhost:8080/"
        },
        "id": "VPCyTIYfK0iZ",
        "outputId": "4516bb40-6d57-4f77-ca0b-ac411ea941d5"
      },
      "outputs": [
        {
          "name": "stdout",
          "output_type": "stream",
          "text": [
            "[[5000]\n",
            " [5000]\n",
            " [5000]]\n"
          ]
        }
      ],
      "source": [
        "mat4.fill(5000)\n",
        "print(mat4)"
      ]
    },
    {
      "cell_type": "markdown",
      "metadata": {
        "id": "sBoN6b6Cd5d6"
      },
      "source": [
        "<img src=\"https://miro.medium.com/max/1400/1*XDBcGPOkqTGd5C7DuRrAiw.png\">"
      ]
    },
    {
      "cell_type": "code",
      "execution_count": null,
      "metadata": {
        "colab": {
          "base_uri": "https://localhost:8080/"
        },
        "id": "TEZetMOILQfp",
        "outputId": "21692751-e6b1-498c-aee1-0b049149104d"
      },
      "outputs": [
        {
          "name": "stdout",
          "output_type": "stream",
          "text": [
            "[[7 7]\n",
            " [7 7]\n",
            " [7 7]]\n"
          ]
        },
        {
          "data": {
            "text/plain": [
              "array([[1, 0, 0, 0],\n",
              "       [0, 1, 0, 0],\n",
              "       [0, 0, 1, 0],\n",
              "       [0, 0, 0, 1]], dtype=int32)"
            ]
          },
          "execution_count": 154,
          "metadata": {},
          "output_type": "execute_result"
        }
      ],
      "source": [
        "mat5 = np.full((3,2),7,dtype=np.int8)\n",
        "print(mat5)\n",
        "np.eye(4,dtype=np.int32)"
      ]
    },
    {
      "cell_type": "code",
      "execution_count": null,
      "metadata": {
        "colab": {
          "base_uri": "https://localhost:8080/"
        },
        "id": "eexdwrlSLl1k",
        "outputId": "ef000aae-6827-4cfa-fef9-7d3f5b54ce15"
      },
      "outputs": [
        {
          "name": "stdout",
          "output_type": "stream",
          "text": [
            "<class 'numpy.int8'>\n",
            "-10\n"
          ]
        }
      ],
      "source": [
        "mat5[0,1] = -10\n",
        "print(type(mat5[0,1]))\n",
        "print(mat5[0,1])"
      ]
    },
    {
      "cell_type": "code",
      "execution_count": null,
      "metadata": {
        "colab": {
          "base_uri": "https://localhost:8080/"
        },
        "id": "8uLBAaKrOK-m",
        "outputId": "3f64929d-bbc9-4a8b-e76c-3ba4d1ce6cce"
      },
      "outputs": [
        {
          "name": "stdout",
          "output_type": "stream",
          "text": [
            "[ 2  4  6  8 10]\n"
          ]
        }
      ],
      "source": [
        "mat6 = np.arange(2,12,2)\n",
        "print(mat6)"
      ]
    },
    {
      "cell_type": "code",
      "execution_count": null,
      "metadata": {
        "colab": {
          "base_uri": "https://localhost:8080/"
        },
        "id": "ffB9UFAffHWh",
        "outputId": "ad2a0f22-22e0-4459-c468-2da3311ff40c"
      },
      "outputs": [
        {
          "name": "stdout",
          "output_type": "stream",
          "text": [
            "[ 1.     2.285  3.572  4.855  6.145  7.43   8.71  10.   ]\n"
          ]
        }
      ],
      "source": [
        "mat7 = np.linspace(1,10,8,dtype=np.float16)\n",
        "print(mat7)"
      ]
    },
    {
      "cell_type": "code",
      "execution_count": null,
      "metadata": {
        "colab": {
          "base_uri": "https://localhost:8080/",
          "height": 279
        },
        "id": "4EcoX7eRir7M",
        "outputId": "21b9dc37-a4a0-46e4-dada-fb54f0e7a118"
      },
      "outputs": [
        {
          "data": {
            "image/png": "[encoded data removed]",
            "text/plain": [
              "<Figure size 432x288 with 1 Axes>"
            ]
          },
          "metadata": {
            "needs_background": "light"
          },
          "output_type": "display_data"
        }
      ],
      "source": [
        "import matplotlib.pyplot as plt\n",
        "plt.plot([0,1,2,3,4],[1, 2, 3, 4, 5])\n",
        "plt.ylabel('Eje y')\n",
        "plt.xlabel('Eje x')\n",
        "plt.show()"
      ]
    },
    {
      "cell_type": "code",
      "execution_count": null,
      "metadata": {
        "colab": {
          "base_uri": "https://localhost:8080/",
          "height": 282
        },
        "id": "asj2q4mPjFyO",
        "outputId": "8d1f6dae-8ab3-4e34-c72a-176f70d5c7a8"
      },
      "outputs": [
        {
          "data": {
            "text/plain": [
              "[<matplotlib.lines.Line2D at 0x1ac53e710c0>]"
            ]
          },
          "execution_count": 28,
          "metadata": {},
          "output_type": "execute_result"
        },
        {
          "data": {
            "image/png": "[encoded data removed]",
            "text/plain": [
              "<Figure size 432x288 with 1 Axes>"
            ]
          },
          "metadata": {
            "needs_background": "light"
          },
          "output_type": "display_data"
        }
      ],
      "source": [
        "plt.plot([1, 2, 3, 4, 5],[1, 4, 9, 16, 25 ])"
      ]
    },
    {
      "cell_type": "code",
      "execution_count": null,
      "metadata": {
        "id": "VYnkwKVPjxOz"
      },
      "outputs": [
        {
          "ename": "NameError",
          "evalue": "name 'np' is not defined",
          "output_type": "error",
          "traceback": [
            "\u001b[1;31m---------------------------------------------------------------------------\u001b[0m",
            "\u001b[1;31mNameError\u001b[0m                                 Traceback (most recent call last)",
            "\u001b[1;32md:\\PythonProjects\\Intro_Python.ipynb Celda 97\u001b[0m in \u001b[0;36m<cell line: 1>\u001b[1;34m()\u001b[0m\n\u001b[1;32m----> <a href='vscode-notebook-cell:/d%3A/PythonProjects/Intro_Python.ipynb#Y165sZmlsZQ%3D%3D?line=0'>1</a>\u001b[0m x \u001b[39m=\u001b[39m np\u001b[39m.\u001b[39mlinspace(\u001b[39m-\u001b[39m\u001b[39m5\u001b[39m,\u001b[39m5\u001b[39m,\u001b[39m100\u001b[39m)\n",
            "\u001b[1;31mNameError\u001b[0m: name 'np' is not defined"
          ]
        }
      ],
      "source": [
        "x = np.linspace(-5,5,100)\n",
        "##print(x)"
      ]
    },
    {
      "cell_type": "code",
      "execution_count": null,
      "metadata": {
        "id": "Ug6ia4r-kP8l"
      },
      "outputs": [],
      "source": [
        "y1 = np.power(x,2)\n",
        "y2 = np.power(x,3)\n",
        "#print(y)"
      ]
    },
    {
      "cell_type": "code",
      "execution_count": null,
      "metadata": {
        "colab": {
          "base_uri": "https://localhost:8080/",
          "height": 282
        },
        "id": "tDFoTYMPk0M6",
        "outputId": "d4ef032e-5fea-44a4-c47a-042a80578aff"
      },
      "outputs": [
        {
          "ename": "NameError",
          "evalue": "name 'plt' is not defined",
          "output_type": "error",
          "traceback": [
            "\u001b[1;31m---------------------------------------------------------------------------\u001b[0m",
            "\u001b[1;31mNameError\u001b[0m                                 Traceback (most recent call last)",
            "\u001b[1;32md:\\PythonProjects\\Intro_Python.ipynb Celda 99\u001b[0m in \u001b[0;36m<cell line: 1>\u001b[1;34m()\u001b[0m\n\u001b[1;32m----> <a href='vscode-notebook-cell:/d%3A/PythonProjects/Intro_Python.ipynb#Y200sZmlsZQ%3D%3D?line=0'>1</a>\u001b[0m plt\u001b[39m.\u001b[39mplot(x,y1)\n",
            "\u001b[1;31mNameError\u001b[0m: name 'plt' is not defined"
          ]
        }
      ],
      "source": [
        "plt.plot(x,y1)"
      ]
    },
    {
      "cell_type": "code",
      "execution_count": null,
      "metadata": {
        "id": "rCFKvQqhmu2b"
      },
      "outputs": [],
      "source": [
        "x = np.array([-1, 0, 1])\n",
        "y = np.array([-2, 0, 2])"
      ]
    },
    {
      "cell_type": "code",
      "execution_count": null,
      "metadata": {
        "id": "6RLAR3tZnMNP"
      },
      "outputs": [],
      "source": [
        "X, Y = np.meshgrid(x,y)"
      ]
    },
    {
      "cell_type": "code",
      "execution_count": null,
      "metadata": {
        "colab": {
          "base_uri": "https://localhost:8080/"
        },
        "id": "YI8DENfjnUNm",
        "outputId": "28417f1d-83cb-4367-d91e-a990728ae1e7"
      },
      "outputs": [
        {
          "name": "stdout",
          "output_type": "stream",
          "text": [
            "[[-1  0  1]\n",
            " [-1  0  1]\n",
            " [-1  0  1]]\n",
            "[[-2 -2 -2]\n",
            " [ 0  0  0]\n",
            " [ 2  2  2]]\n"
          ]
        }
      ],
      "source": [
        "print(X)\n",
        "print(Y)"
      ]
    },
    {
      "cell_type": "code",
      "execution_count": null,
      "metadata": {
        "colab": {
          "base_uri": "https://localhost:8080/"
        },
        "id": "wgm_aQk0n8y4",
        "outputId": "540a8632-cb4a-4de9-d7e1-55905a18f9d5"
      },
      "outputs": [
        {
          "name": "stdout",
          "output_type": "stream",
          "text": [
            "[[5 4 5]\n",
            " [1 0 1]\n",
            " [5 4 5]]\n"
          ]
        }
      ],
      "source": [
        "Z = np.power(X,2)+np.power(Y,2)\n",
        "print(Z)"
      ]
    },
    {
      "cell_type": "code",
      "execution_count": null,
      "metadata": {
        "colab": {
          "base_uri": "https://localhost:8080/",
          "height": 265
        },
        "id": "0p1DYHaDqK6B",
        "outputId": "041f9a62-0110-4385-f543-eb8a8c26170d"
      },
      "outputs": [
        {
          "data": {
            "text/plain": [
              "<mpl_toolkits.mplot3d.art3d.Poly3DCollection at 0x7f1e67d3cd10>"
            ]
          },
          "execution_count": 185,
          "metadata": {},
          "output_type": "execute_result"
        },
        {
          "data": {
            "image/png": "[encoded data removed]",
            "text/plain": [
              "<Figure size 432x288 with 1 Axes>"
            ]
          },
          "metadata": {
            "needs_background": "light"
          },
          "output_type": "display_data"
        }
      ],
      "source": [
        "ax = plt.axes(projection='3d')\n",
        "ax.plot_surface(X, Y, Z, rstride=1, cstride=1, cmap='viridis', edgecolor='none')"
      ]
    },
    {
      "cell_type": "code",
      "execution_count": null,
      "metadata": {
        "colab": {
          "base_uri": "https://localhost:8080/",
          "height": 265
        },
        "id": "Hr_x7JT7q8Ml",
        "outputId": "29c11a98-1992-40d8-b0a0-997af5b96442"
      },
      "outputs": [
        {
          "data": {
            "text/plain": [
              "<mpl_toolkits.mplot3d.art3d.Poly3DCollection at 0x7f1e6731b6d0>"
            ]
          },
          "execution_count": 190,
          "metadata": {},
          "output_type": "execute_result"
        },
        {
          "data": {
            "image/png": "[encoded data removed]",
            "text/plain": [
              "<Figure size 432x288 with 1 Axes>"
            ]
          },
          "metadata": {
            "needs_background": "light"
          },
          "output_type": "display_data"
        }
      ],
      "source": [
        "x = np.linspace(-1,1,50)\n",
        "y = np.linspace(-2,2,50)\n",
        "X,Y = np.meshgrid(x,y)\n",
        "Z = np.power(X,2)+np.power(Y,2)\n",
        "ax = plt.axes(projection='3d')\n",
        "ax.plot_surface(X, Y, Z)"
      ]
    },
    {
      "cell_type": "code",
      "execution_count": null,
      "metadata": {
        "colab": {
          "base_uri": "https://localhost:8080/"
        },
        "id": "kJMga1y5vocI",
        "outputId": "204de642-b964-4474-d6fd-e0cfde2b9318"
      },
      "outputs": [
        {
          "name": "stdout",
          "output_type": "stream",
          "text": [
            "[1 2 3 1 5]\n"
          ]
        }
      ],
      "source": [
        "randvect = np.random.randint(7,size=5)\n",
        "print(randvect)"
      ]
    },
    {
      "cell_type": "code",
      "execution_count": null,
      "metadata": {
        "colab": {
          "base_uri": "https://localhost:8080/"
        },
        "id": "KfNrQeOkxt-S",
        "outputId": "0eb12a25-5c7f-46e7-9beb-c8a9ec09701e"
      },
      "outputs": [
        {
          "name": "stdout",
          "output_type": "stream",
          "text": [
            "[[1 2 2]\n",
            " [5 2 7]]\n"
          ]
        }
      ],
      "source": [
        "randmat1 = np.random.randint(10,size = (2,3))\n",
        "print(randmat1)"
      ]
    },
    {
      "cell_type": "code",
      "execution_count": null,
      "metadata": {
        "colab": {
          "base_uri": "https://localhost:8080/"
        },
        "id": "sumq_0zUzJGx",
        "outputId": "96e4ebcd-f0da-4e92-8d58-67a018006164"
      },
      "outputs": [
        {
          "name": "stdout",
          "output_type": "stream",
          "text": [
            "[[8 0 7]\n",
            " [9 9 1]]\n"
          ]
        }
      ],
      "source": [
        "randmat2 = np.random.randint(10,size = (2,3))\n",
        "print(randmat2)"
      ]
    },
    {
      "cell_type": "code",
      "execution_count": null,
      "metadata": {
        "id": "0ND-q-t_zSJM"
      },
      "outputs": [],
      "source": [
        "matsum = randmat1+randmat2\n",
        "print(matsum)"
      ]
    },
    {
      "cell_type": "code",
      "execution_count": null,
      "metadata": {
        "id": "OoeCYGQBz2lc"
      },
      "outputs": [],
      "source": [
        "randmat3 = np.random.randint(10,size=(2,2))\n",
        "print(randmat3)"
      ]
    },
    {
      "cell_type": "code",
      "execution_count": null,
      "metadata": {
        "id": "YMyiX_9T0_T9"
      },
      "outputs": [],
      "source": [
        "randmat4 = np.random.randint(10,size=(2,2))\n",
        "print(randmat4)"
      ]
    },
    {
      "cell_type": "code",
      "execution_count": null,
      "metadata": {
        "id": "7XA__Xe_1DQK"
      },
      "outputs": [],
      "source": [
        "matprod = np.dot(randmat3,randmat4)\n",
        "print(matprod)"
      ]
    },
    {
      "cell_type": "code",
      "execution_count": null,
      "metadata": {
        "id": "7yltdCAP2Ysi"
      },
      "outputs": [],
      "source": [
        "matpow = np.linalg.matrix_power(randmat3,2)\n",
        "print(matpow)"
      ]
    },
    {
      "cell_type": "code",
      "execution_count": null,
      "metadata": {
        "colab": {
          "base_uri": "https://localhost:8080/",
          "height": 523
        },
        "id": "tP2uw17VflY9",
        "outputId": "b8625908-1a7b-40f3-e198-bab7211aebb4"
      },
      "outputs": [
        {
          "data": {
            "image/png": "[encoded data removed]",
            "text/plain": [
              "<Figure size 288x576 with 2 Axes>"
            ]
          },
          "metadata": {
            "needs_background": "light"
          },
          "output_type": "display_data"
        }
      ],
      "source": [
        "import matplotlib.pyplot as plt\n",
        "import numpy as np\n",
        "\n",
        "def f(t):\n",
        "    return np.cos(2*np.pi*t) * np.exp(-t)\n",
        "\n",
        "# Set up a figure twice as tall as it is wide\n",
        "fig = plt.figure(figsize=plt.figaspect(2.))\n",
        "fig.suptitle('A tale of 2 subplots')\n",
        "\n",
        "# First subplot\n",
        "ax = fig.add_subplot(2, 1, 1)\n",
        "\n",
        "t1 = np.arange(0.0, 5.0, 0.1)\n",
        "t2 = np.arange(0.0, 5.0, 0.02)\n",
        "t3 = np.arange(0.0, 2.0, 0.01)\n",
        "\n",
        "ax.plot(t1, f(t1), 'bo',\n",
        "        t2, f(t2), 'k--', markerfacecolor='green')\n",
        "ax.grid(True)\n",
        "ax.set_ylabel('Damped oscillation')\n",
        "\n",
        "# Second subplot\n",
        "ax = fig.add_subplot(2, 1, 2, projection='3d')\n",
        "\n",
        "X = np.arange(-5, 5, 0.25)\n",
        "Y = np.arange(-5, 5, 0.25)\n",
        "X, Y = np.meshgrid(X, Y)\n",
        "R = np.sqrt(X**2 + Y**2)\n",
        "Z = np.sin(R)\n",
        "\n",
        "surf = ax.plot_surface(X, Y, Z, rstride=1, cstride=1,\n",
        "                       linewidth=2, antialiased=False)\n",
        "ax.set_zlim(-1, 1)\n",
        "\n",
        "plt.show()"
      ]
    }
  ],
  "metadata": {
    "colab": {
      "provenance": [],
      "toc_visible": true
    },
    "kernelspec": {
      "display_name": "Python 3.10.6 64-bit (microsoft store)",
      "language": "python",
      "name": "python3"
    },
    "language_info": {
      "codemirror_mode": {
        "name": "ipython",
        "version": 3
      },
      "file_extension": ".py",
      "mimetype": "text/x-python",
      "name": "python",
      "nbconvert_exporter": "python",
      "pygments_lexer": "ipython3",
      "version": "3.10.7"
    },
    "vscode": {
      "interpreter": {
        "hash": "ffd3508fdfd41c2fe8b2bf4437351a5f803aaa8ccdd420424324dd9aa6fbc0f8"
      }
    }
  },
  "nbformat": 4,
  "nbformat_minor": 0
}
