{
 "cells": [
  {
   "cell_type": "code",
   "execution_count": 1,
   "metadata": {},
   "outputs": [],
   "source": [
    "import numpy as np"
   ]
  },
  {
   "cell_type": "code",
   "execution_count": 8,
   "metadata": {},
   "outputs": [
    {
     "name": "stdout",
     "output_type": "stream",
     "text": [
      "[3.   3.25 3.5  3.75 4.   4.25 4.5  4.75 5.   5.25 5.5  5.75 6.   6.25\n",
      " 6.5  6.75 7.   7.25 7.5  7.75 8.   8.25 8.5  8.75]\n"
     ]
    }
   ],
   "source": [
    "a = 3\n",
    "b = 9\n",
    "step = 0.25\n",
    "vec = np.arange(a,b,step)\n",
    "np.set_printoptions(suppress=True)\n",
    "print(vec)"
   ]
  },
  {
   "cell_type": "code",
   "execution_count": 9,
   "metadata": {},
   "outputs": [
    {
     "name": "stdout",
     "output_type": "stream",
     "text": [
      "[1.    1.222 1.444 1.667 1.889 2.111 2.333 2.556 2.778 3.   ]\n"
     ]
    }
   ],
   "source": [
    "vec2 = np.linspace(1,3,10)\n",
    "np.set_printoptions(precision=3 ,suppress=True)\n",
    "print(vec2)"
   ]
  },
  {
   "cell_type": "code",
   "execution_count": 10,
   "metadata": {},
   "outputs": [
    {
     "name": "stdout",
     "output_type": "stream",
     "text": [
      "int64\n",
      "int32\n",
      "v=  [1 3 4 6]\n",
      "x=  [ 3  4  5  6  7  8  9 10 11 12 13 14 15 16 17 18 19 20 21 22 23 24 25 26\n",
      " 27 28 29 30]\n",
      "[4 6 7 9]\n"
     ]
    }
   ],
   "source": [
    "v = np.array([1,3,4,6],dtype=np.int64)\n",
    "print(v.dtype)\n",
    "aux = range(3,31)\n",
    "x = np.array(aux)\n",
    "print(x.dtype)\n",
    "print(\"v= \", v)\n",
    "print(\"x= \", x)\n",
    "print(x[v])"
   ]
  },
  {
   "cell_type": "code",
   "execution_count": 11,
   "metadata": {},
   "outputs": [
    {
     "name": "stdout",
     "output_type": "stream",
     "text": [
      "[ 1.   3.   4.   6.  -1.   0.5  2. ]\n",
      "length of u1 = 7\n"
     ]
    }
   ],
   "source": [
    "u1 = np.append(v,[-1,0.5,2])\n",
    "print(u1)\n",
    "print(\"length of u1 =\", u1.size)"
   ]
  },
  {
   "cell_type": "code",
   "execution_count": 12,
   "metadata": {},
   "outputs": [
    {
     "name": "stdout",
     "output_type": "stream",
     "text": [
      "[ 8 10  9 12]\n",
      "[3 9 6 8]\n"
     ]
    }
   ],
   "source": [
    "uu = np.array([0, 4, 2, 1])\n",
    "vv = np.array([3, 5, 4, 7])\n",
    "ans = vv + 5\n",
    "print(ans)\n",
    "sum = uu+vv\n",
    "print(sum)\n"
   ]
  },
  {
   "cell_type": "code",
   "execution_count": 13,
   "metadata": {},
   "outputs": [
    {
     "name": "stdout",
     "output_type": "stream",
     "text": [
      "[[ 5  6  7]\n",
      " [ 8  9 10]\n",
      " [11 12 13]]\n",
      "[[0. 1. 2.]\n",
      " [3. 4. 5.]\n",
      " [6. 7. 8.]]\n",
      "[[ 5.  7.  9.]\n",
      " [11. 13. 15.]\n",
      " [17. 19. 21.]]\n"
     ]
    }
   ],
   "source": [
    "x1 = np.arange(9.).reshape((3, 3)) \n",
    "x2 = np.arange(3)\n",
    "x3 = np.arange(5,14).reshape(3,3)\n",
    "print(x3)\n",
    "print(x1)\n",
    "#print(x2)\n",
    "#print(x1+x2)\n",
    "print(x1+x3)"
   ]
  },
  {
   "cell_type": "code",
   "execution_count": 14,
   "metadata": {},
   "outputs": [
    {
     "name": "stdout",
     "output_type": "stream",
     "text": [
      "[1.   0.5  0.33 0.25 0.2  0.17 0.14 0.12 0.11 0.1 ]\n"
     ]
    }
   ],
   "source": [
    "vect = np.ones(10)\n",
    "for i in range(1,11):\n",
    "    vect[i-1] = 1/i\n",
    "np.set_printoptions(precision=2)\n",
    "print(vect)"
   ]
  },
  {
   "cell_type": "code",
   "execution_count": 15,
   "metadata": {},
   "outputs": [
    {
     "name": "stdout",
     "output_type": "stream",
     "text": [
      "[-1.    0.33 -0.2   0.14 -0.11  0.09 -0.08  0.07 -0.06  0.05 -0.05  0.04\n",
      " -0.04  0.04 -0.03  0.03 -0.03  0.03 -0.03  0.03 -0.02  0.02 -0.02  0.02\n",
      " -0.02  0.02 -0.02  0.02 -0.02  0.02 -0.02  0.02 -0.02  0.01 -0.01  0.01\n",
      " -0.01  0.01 -0.01  0.01 -0.01  0.01 -0.01  0.01 -0.01  0.01 -0.01  0.01\n",
      " -0.01  0.01 -0.01  0.01 -0.01  0.01 -0.01  0.01 -0.01  0.01 -0.01  0.01\n",
      " -0.01  0.01 -0.01  0.01 -0.01  0.01 -0.01  0.01 -0.01  0.01 -0.01  0.01\n",
      " -0.01  0.01 -0.01  0.01 -0.01  0.01 -0.01  0.01 -0.01  0.01 -0.01  0.01\n",
      " -0.01  0.01 -0.01  0.01 -0.01  0.01 -0.01  0.01 -0.01  0.01 -0.01  0.01\n",
      " -0.01  0.01 -0.01  0.01]\n",
      "0.3333333333333333\n"
     ]
    }
   ],
   "source": [
    "vect = np.ones(100)\n",
    "for i in range(100):\n",
    "    vect[i] = (-1)**(i+1)/(2*i+1)\n",
    "\n",
    "print(vect)\n",
    "\n",
    "print(vect.max())"
   ]
  },
  {
   "cell_type": "code",
   "execution_count": 5,
   "metadata": {},
   "outputs": [
    {
     "name": "stdout",
     "output_type": "stream",
     "text": [
      "mat =  [[0.03896126 0.01722156]\n",
      " [0.99161793 0.7520904 ]\n",
      " [0.91334246 0.54046106]]\n",
      "\n",
      "\n",
      "mat2 =  [[2 4]\n",
      " [8 1]\n",
      " [1 9]]\n",
      "\n",
      "\n",
      "[4 8 9]\n"
     ]
    }
   ],
   "source": [
    "mat = np.random.rand(3,2)\n",
    "print(\"mat = \", mat)\n",
    "print(\"\\n\")\n",
    "mat2 = np.random.randint(1,10,size=(3,2))\n",
    "print(\"mat2 = \", mat2)\n",
    "print(\"\\n\")\n",
    "print(mat2.max(axis=1))"
   ]
  },
  {
   "cell_type": "code",
   "execution_count": 17,
   "metadata": {},
   "outputs": [
    {
     "name": "stdout",
     "output_type": "stream",
     "text": [
      "mat3 =  [[1 0]\n",
      " [0 0]]\n",
      "mat4 =  [[-2 -2]\n",
      " [ 0  0]]\n",
      "\n",
      "\n",
      "[[-2  0]\n",
      " [ 0  0]]\n",
      "\n",
      "\n",
      "[[-2 -2]\n",
      " [ 0  0]]\n"
     ]
    }
   ],
   "source": [
    "mat3 = np.random.randint(0,3,size=(2,2))\n",
    "mat4 = np.random.randint(-2,2,size=(2,2))\n",
    "print(\"mat3 = \", mat3)\n",
    "print(\"mat4 = \", mat4)\n",
    "print(\"\\n\")\n",
    "prod = mat3*mat4\n",
    "print(prod)\n",
    "print(\"\\n\")\n",
    "prod2 = np.matmul(mat3,mat4)\n",
    "print(prod2)"
   ]
  },
  {
   "cell_type": "code",
   "execution_count": 18,
   "metadata": {},
   "outputs": [
    {
     "name": "stdout",
     "output_type": "stream",
     "text": [
      "[[1 2 1 2 0]\n",
      " [0 0 1 2 3]\n",
      " [0 2 1 0 3]\n",
      " [1 2 2 3 1]]\n",
      "\n",
      "\n",
      "[[2 1 2 0]\n",
      " [2 2 3 1]]\n"
     ]
    }
   ],
   "source": [
    "matt2 = np.random.randint(4,size=(4,5))\n",
    "print(matt2)\n",
    "aa = matt2[[0,3],1:]\n",
    "print(\"\\n\")\n",
    "print(aa)"
   ]
  },
  {
   "cell_type": "code",
   "execution_count": 19,
   "metadata": {},
   "outputs": [
    {
     "name": "stdout",
     "output_type": "stream",
     "text": [
      "[[1 2 2 2 2]\n",
      " [3 2 0 0 2]\n",
      " [2 3 1 3 2]\n",
      " [2 1 2 0 3]]\n",
      "\n",
      "\n",
      "[[2 2]\n",
      " [0 0]\n",
      " [1 3]\n",
      " [2 0]]\n"
     ]
    }
   ],
   "source": [
    "matt3 = np.random.randint(4,size=(4,5))\n",
    "print(matt3)\n",
    "aa = matt3[:,2:4]\n",
    "print(\"\\n\")\n",
    "print(aa)"
   ]
  },
  {
   "cell_type": "code",
   "execution_count": 20,
   "metadata": {},
   "outputs": [
    {
     "name": "stdout",
     "output_type": "stream",
     "text": [
      "[[2 1 2 0]\n",
      " [0 0 1 2]\n",
      " [2 2 0 0]]\n",
      "\n",
      "\n",
      "[[0 0 1 2]]\n"
     ]
    }
   ],
   "source": [
    "matt = np.arange(9).reshape(3,3)\n",
    "matt2 = np.random.randint(3,size=(3,4))\n",
    "print(matt2)\n",
    "#matt[0,1] = -1000\n",
    "print(\"\\n\")\n",
    "aa = np.delete(matt2,1,axis=0)\n",
    "aa2 = np.delete(matt2,[0,2],axis=0)\n",
    "print(aa2)"
   ]
  },
  {
   "cell_type": "code",
   "execution_count": 21,
   "metadata": {},
   "outputs": [
    {
     "name": "stdout",
     "output_type": "stream",
     "text": [
      "[[1 0 3 0 2]\n",
      " [2 0 3 1 1]\n",
      " [1 1 1 2 0]\n",
      " [2 2 2 0 1]]\n",
      "[[3 0 2]\n",
      " [3 1 1]\n",
      " [1 2 0]\n",
      " [2 0 1]] \n",
      "\n",
      "[[1 0 3 0 2]\n",
      " [2 0 3 1 1]\n",
      " [1 1 1 2 0]\n",
      " [2 2 2 0 1]]\n"
     ]
    }
   ],
   "source": [
    "matt3 = np.random.randint(4,size=(4,5))\n",
    "print(matt3)\n",
    "aa=np.delete(matt3,slice(0,2),1)\n",
    "print(aa,\"\\n\") \n",
    "print(matt3)"
   ]
  },
  {
   "cell_type": "code",
   "execution_count": 22,
   "metadata": {},
   "outputs": [],
   "source": [
    "def mayor(x,y):\n",
    "    if x < y:\n",
    "        return y\n",
    "    else:\n",
    "        return x "
   ]
  },
  {
   "cell_type": "code",
   "execution_count": 23,
   "metadata": {},
   "outputs": [
    {
     "data": {
      "text/plain": [
       "30"
      ]
     },
     "execution_count": 23,
     "metadata": {},
     "output_type": "execute_result"
    }
   ],
   "source": [
    "mayor(30,4)"
   ]
  },
  {
   "cell_type": "code",
   "execution_count": 34,
   "metadata": {},
   "outputs": [],
   "source": [
    "def mat(n):\n",
    "    A = np.ones((n,n))\n",
    "    for i in range(n):\n",
    "        for j in range(n):\n",
    "            if abs(i-j)==1:\n",
    "                A[i,j] = 0\n",
    "    return A    "
   ]
  },
  {
   "cell_type": "code",
   "execution_count": 35,
   "metadata": {},
   "outputs": [
    {
     "name": "stdout",
     "output_type": "stream",
     "text": [
      "[[1. 0. 1. 1.]\n",
      " [0. 1. 0. 1.]\n",
      " [1. 0. 1. 0.]\n",
      " [1. 1. 0. 1.]]\n"
     ]
    }
   ],
   "source": [
    "print(mat(4))"
   ]
  },
  {
   "cell_type": "code",
   "execution_count": 36,
   "metadata": {},
   "outputs": [
    {
     "name": "stdout",
     "output_type": "stream",
     "text": [
      "int32\n"
     ]
    }
   ],
   "source": [
    "A = np.ones((2,2),dtype=np.int32)\n",
    "print(A.dtype)"
   ]
  }
 ],
 "metadata": {
  "kernelspec": {
   "display_name": "Python 3.10.6 64-bit (microsoft store)",
   "language": "python",
   "name": "python3"
  },
  "language_info": {
   "codemirror_mode": {
    "name": "ipython",
    "version": 3
   },
   "file_extension": ".py",
   "mimetype": "text/x-python",
   "name": "python",
   "nbconvert_exporter": "python",
   "pygments_lexer": "ipython3",
   "version": "3.11.5"
  },
  "orig_nbformat": 4,
  "vscode": {
   "interpreter": {
    "hash": "ffd3508fdfd41c2fe8b2bf4437351a5f803aaa8ccdd420424324dd9aa6fbc0f8"
   }
  }
 },
 "nbformat": 4,
 "nbformat_minor": 2
}
