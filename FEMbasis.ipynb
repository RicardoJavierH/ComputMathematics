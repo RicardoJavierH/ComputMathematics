{
 "cells": [
  {
   "cell_type": "code",
   "execution_count": null,
   "metadata": {},
   "outputs": [],
   "source": [
    "import numpy as np\n",
    "import matplotlib.pyplot as plt\n",
    "\n",
    "def phi(i,x,nodVec):\n",
    "    n=len(nodVec)-1\n",
    "    if i==0:\n",
    "        def tramo1(x):\n",
    "            return (nodVec[1]-x)/(nodVec[1]-nodVec[0])\n",
    "        return np.piecewise(x,[(nodVec[0]<=x) & (x<=nodVec[1])],[lambda x:tramo1(x)]) \n",
    "    elif i==n:\n",
    "        def tramo1(x):\n",
    "            return (x-nodVec[n-1])/(nodVec[n]-nodVec[n-1])\n",
    "        return np.piecewise(x,[(nodVec[n-1]<=x) & (x<=nodVec[n])],[lambda x:tramo1(x)]) \n",
    "    else:\n",
    "        def tramo1(x):\n",
    "            return (x-nodVec[i-1])/(nodVec[i]-nodVec[i-1])\n",
    "        def tramo2(x):\n",
    "            return (nodVec[i+1]-x)/(nodVec[i+1]-(nodVec[i]))\n",
    "        return np.piecewise(x,[(nodVec[i-1]<=x) & (x<=nodVec[i]),(nodVec[i]<=x) & (x<=nodVec[i+1])],[lambda x:tramo1(x),lambda x: tramo2(x)])"
   ]
  }
 ],
 "metadata": {
  "language_info": {
   "name": "python"
  },
  "orig_nbformat": 4
 },
 "nbformat": 4,
 "nbformat_minor": 2
}
