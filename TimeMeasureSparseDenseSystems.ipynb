{
 "cells": [
  {
   "cell_type": "code",
   "execution_count": 13,
   "metadata": {},
   "outputs": [],
   "source": [
    "import numpy as np\n",
    "import scipy.sparse as sp\n",
    "import scipy.sparse.linalg\n",
    "import matplotlib.pyplot as plt\n",
    "import time"
   ]
  },
  {
   "cell_type": "code",
   "execution_count": 26,
   "metadata": {},
   "outputs": [
    {
     "name": "stdout",
     "output_type": "stream",
     "text": [
      "A= \n",
      " [[-2.  1.  0. ...  0.  0.  0.]\n",
      " [-3. -2.  1. ...  0.  0.  0.]\n",
      " [ 0. -3. -2. ...  0.  0.  0.]\n",
      " ...\n",
      " [ 0.  0.  0. ... -2.  1.  0.]\n",
      " [ 0.  0.  0. ... -3. -2.  1.]\n",
      " [ 0.  0.  0. ...  0. -3. -2.]]\n"
     ]
    }
   ],
   "source": [
    "N = 10000\n",
    "A = sp.diags([1, -2, -3], [1, 0, -1], shape=[N, N], format='csc')\n",
    "A1 = A.todense()\n",
    "b = -np.ones(N)\n",
    "print(\"A= \\n\",A1)"
   ]
  },
  {
   "cell_type": "code",
   "execution_count": 30,
   "metadata": {},
   "outputs": [
    {
     "name": "stdout",
     "output_type": "stream",
     "text": [
      "Execution time: 0.008502006530761719 seconds\n",
      "solution x= \n",
      " [ 5.00000000e-01 -2.22044605e-16  5.00000000e-01 ... -1.85185185e-02\n",
      "  4.44444444e-01 -1.66666667e-01]\n"
     ]
    }
   ],
   "source": [
    "st = time.time()\n",
    "x = sp.linalg.spsolve(A, b)\n",
    "et = time.time()\n",
    "elapsed_time = et - st\n",
    "print('Execution time:', elapsed_time, 'seconds')\n",
    "print(\"solution x= \\n\",x)"
   ]
  },
  {
   "cell_type": "code",
   "execution_count": 31,
   "metadata": {},
   "outputs": [
    {
     "name": "stdout",
     "output_type": "stream",
     "text": [
      "Execution time: 10.795637845993042 seconds\n",
      "solution x= \n",
      " [ 5.00000000e-01 -2.22044605e-16  5.00000000e-01 ... -1.85185185e-02\n",
      "  4.44444444e-01 -1.66666667e-01]\n"
     ]
    }
   ],
   "source": [
    "st = time.time()\n",
    "x = np.linalg.solve(A1, b)\n",
    "et = time.time()\n",
    "elapsed_time = et - st\n",
    "print('Execution time:', elapsed_time, 'seconds')\n",
    "print(\"solution x= \\n\",x)"
   ]
  }
 ],
 "metadata": {
  "kernelspec": {
   "display_name": "Python 3",
   "language": "python",
   "name": "python3"
  },
  "language_info": {
   "codemirror_mode": {
    "name": "ipython",
    "version": 3
   },
   "file_extension": ".py",
   "mimetype": "text/x-python",
   "name": "python",
   "nbconvert_exporter": "python",
   "pygments_lexer": "ipython3",
   "version": "3.11.5"
  },
  "orig_nbformat": 4
 },
 "nbformat": 4,
 "nbformat_minor": 2
}
