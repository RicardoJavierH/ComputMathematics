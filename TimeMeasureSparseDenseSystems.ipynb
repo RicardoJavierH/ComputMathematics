{
 "cells": [
  {
   "cell_type": "code",
   "execution_count": 1,
   "metadata": {},
   "outputs": [],
   "source": [
    "import numpy as np\n",
    "import scipy.sparse as sp\n",
    "import scipy.sparse.linalg\n",
    "#import matplotlib.pyplot as plt\n",
    "import time"
   ]
  },
  {
   "cell_type": "code",
   "execution_count": 41,
   "metadata": {},
   "outputs": [
    {
     "name": "stdout",
     "output_type": "stream",
     "text": [
      "<class 'numpy.matrix'>\n"
     ]
    }
   ],
   "source": [
    "N = 10000\n",
    "A = sp.diags([1, -2, 1], [1, 0, -1], shape=[N, N], format='csr')\n",
    "#print(type(A))\n",
    "#print(\"A=\",A)\n",
    "A1 = A.todense()\n",
    "print(type(A1))\n",
    "b = -np.ones(N)\n",
    "#print(\"A1= \\n\",A1)"
   ]
  },
  {
   "cell_type": "code",
   "execution_count": 42,
   "metadata": {},
   "outputs": [
    {
     "name": "stdout",
     "output_type": "stream",
     "text": [
      "Execution time: 0.010636091232299805 seconds\n"
     ]
    }
   ],
   "source": [
    "st = time.time()\n",
    "x = sp.linalg.spsolve(A, b)\n",
    "et = time.time()\n",
    "elapsed_time = et - st\n",
    "print('Execution time:', elapsed_time, 'seconds')\n",
    "#print(\"solution x= \\n\",x)"
   ]
  },
  {
   "cell_type": "code",
   "execution_count": 43,
   "metadata": {},
   "outputs": [
    {
     "name": "stdout",
     "output_type": "stream",
     "text": [
      "Execution time: 14.909774780273438 seconds\n"
     ]
    }
   ],
   "source": [
    "st = time.time()\n",
    "x = np.linalg.solve(A1, b)\n",
    "et = time.time()\n",
    "elapsed_time = et - st\n",
    "print('Execution time:', elapsed_time, 'seconds')\n",
    "#print(\"solution x= \\n\",x)"
   ]
  }
 ],
 "metadata": {
  "kernelspec": {
   "display_name": "Python 3",
   "language": "python",
   "name": "python3"
  },
  "language_info": {
   "codemirror_mode": {
    "name": "ipython",
    "version": 3
   },
   "file_extension": ".py",
   "mimetype": "text/x-python",
   "name": "python",
   "nbconvert_exporter": "python",
   "pygments_lexer": "ipython3",
   "version": "3.10.7"
  },
  "orig_nbformat": 4
 },
 "nbformat": 4,
 "nbformat_minor": 2
}
