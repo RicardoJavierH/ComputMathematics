{
 "cells": [
  {
   "cell_type": "code",
   "execution_count": 1,
   "metadata": {},
   "outputs": [],
   "source": [
    "import sympy\n",
    "sympy.init_printing()\n",
    "from sympy import I, pi, oo"
   ]
  },
  {
   "cell_type": "code",
   "execution_count": 2,
   "metadata": {},
   "outputs": [
    {
     "data": {
      "image/png": "[encoded data removed]",
      "text/latex": [
       "$\\displaystyle 2 \\left(\\cos{\\left(9 \\pi y \\right)} + 1\\right) \\left(\\operatorname{atan}{\\left(coefA \\left(ArgSum - coefRad \\left(x^{2} + y^{2}\\right)\\right) \\right)} + 0.5 \\pi\\right) \\sin{\\left(9 \\pi x \\right)}$"
      ],
      "text/plain": [
       "                   ⎛    ⎛      ⎛                 ⎛ 2    2⎞⎞⎞        ⎞         \n",
       "2⋅(cos(9⋅π⋅y) + 1)⋅⎝atan⎝coefA⋅⎝ArgSum - coefRad⋅⎝x  + y ⎠⎠⎠ + 0.5⋅π⎠⋅sin(9⋅π⋅\n",
       "\n",
       "  \n",
       "x)"
      ]
     },
     "execution_count": 2,
     "metadata": {},
     "output_type": "execute_result"
    }
   ],
   "source": [
    "x = sympy.Symbol(\"x\", positive=True)\n",
    "y = sympy.Symbol(\"y\", positive=True)\n",
    "r = pow(x,2)+pow(y,2)\n",
    "coefA, argSum, coefRad = sympy.symbols(\"coefA, ArgSum, coefRad\", real=True)\n",
    "w=coefA*(argSum-coefRad*r)\n",
    "fact3 = 0.5*pi+sympy.atan(w)\n",
    "v=1+pow(w,2)\n",
    "den=(2*coefA*coefRad)/v\n",
    "coefPi=9\n",
    "angle=coefPi*pi\n",
    "cosy=1+sympy.cos(angle*y)\n",
    "coefSol = 2\n",
    "u=coefSol*sympy.sin(angle*x)*cosy*fact3\n",
    "u"
   ]
  }
 ],
 "metadata": {
  "kernelspec": {
   "display_name": "Python 3",
   "language": "python",
   "name": "python3"
  },
  "language_info": {
   "codemirror_mode": {
    "name": "ipython",
    "version": 3
   },
   "file_extension": ".py",
   "mimetype": "text/x-python",
   "name": "python",
   "nbconvert_exporter": "python",
   "pygments_lexer": "ipython3",
   "version": "3.10.7"
  },
  "orig_nbformat": 4,
  "vscode": {
   "interpreter": {
    "hash": "8a5edab282632443219e051e4ade2d1d5bbc671c781051bf1437897cbdfea0f1"
   }
  }
 },
 "nbformat": 4,
 "nbformat_minor": 2
}
