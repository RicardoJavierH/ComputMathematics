{
 "cells": [
  {
   "cell_type": "markdown",
   "metadata": {},
   "source": [
    "Introducción a Python "
   ]
  },
  {
   "cell_type": "markdown",
   "metadata": {},
   "source": [
    "Tipos de datos primitivos de Python :\n",
    "\n",
    "Tipo de dato    | Descripción \n",
    "----------------|-------------------\n",
    "str             | Representa cadenas de caracteres (String)\n",
    "int             | Representa a un número entero (integer)\n",
    "float           | Representa un número de punto flotante\n",
    "complex         | Representa un número complejo\n",
    "bool            | Representa un valor booleano verdadero o falso\n",
    "Nonetype        | Representa un valor nulo"
   ]
  },
  {
   "cell_type": "code",
   "execution_count": 2,
   "metadata": {},
   "outputs": [],
   "source": [
    "nom = \"Pedro\"\n",
    "apell = 'Gonzales'"
   ]
  },
  {
   "cell_type": "code",
   "execution_count": 11,
   "metadata": {},
   "outputs": [],
   "source": [
    "import numpy as np"
   ]
  },
  {
   "cell_type": "code",
   "execution_count": 4,
   "metadata": {},
   "outputs": [],
   "source": [
    "arr = np.array([[0,2,4],[6,8,10]]) \n",
    "app_arr=np.append(arr, [[5,7,9],[13,15,17]],axis = 1)"
   ]
  },
  {
   "cell_type": "code",
   "execution_count": 5,
   "metadata": {},
   "outputs": [
    {
     "name": "stdout",
     "output_type": "stream",
     "text": [
      "[[ 0  2  4  5  7  9]\n",
      " [ 6  8 10 13 15 17]]\n"
     ]
    }
   ],
   "source": [
    "print(app_arr)"
   ]
  },
  {
   "cell_type": "code",
   "execution_count": 6,
   "metadata": {},
   "outputs": [
    {
     "name": "stdout",
     "output_type": "stream",
     "text": [
      "(6,)\n",
      "[[0 1 2]\n",
      " [3 4 5]]\n",
      "[ 9 10 11 12 13]\n",
      "Appended arr2 :  [ 0  1  2  3  4  5  9 10 11 12 13]\n"
     ]
    }
   ],
   "source": [
    "arr = np.arange(6) \n",
    "print(arr.shape)\n",
    "b=arr.reshape(2,3) \n",
    "print(b)\n",
    "arr1 = np.arange(9, 14)\n",
    "print(arr1)\n",
    "arr2 = np.append(arr, arr1, axis = 0)\n",
    "print(\"Appended arr2 : \", arr2)"
   ]
  },
  {
   "cell_type": "code",
   "execution_count": 7,
   "metadata": {},
   "outputs": [
    {
     "name": "stdout",
     "output_type": "stream",
     "text": [
      "2\n"
     ]
    }
   ],
   "source": [
    "v = np.shape(b)\n",
    "print(v[0])"
   ]
  },
  {
   "cell_type": "code",
   "execution_count": 8,
   "metadata": {},
   "outputs": [],
   "source": [
    "def suma(x):\n",
    "    s = 0.\n",
    "    v = np.shape(x)\n",
    "    for i in range(v[0]):\n",
    "        for j in range(v[1]):\n",
    "            s += x[i,j]\n",
    "    return s"
   ]
  },
  {
   "cell_type": "code",
   "execution_count": 9,
   "metadata": {},
   "outputs": [
    {
     "data": {
      "text/plain": [
       "15.0"
      ]
     },
     "execution_count": 9,
     "metadata": {},
     "output_type": "execute_result"
    }
   ],
   "source": [
    "suma(b)"
   ]
  },
  {
   "cell_type": "code",
   "execution_count": 31,
   "metadata": {},
   "outputs": [
    {
     "name": "stdout",
     "output_type": "stream",
     "text": [
      "1 es igual a 1\n"
     ]
    }
   ],
   "source": [
    "if 1 == 1:\n",
    "    print(\"1 es igual a 1\")"
   ]
  },
  {
   "cell_type": "code",
   "execution_count": 39,
   "metadata": {},
   "outputs": [
    {
     "name": "stdout",
     "output_type": "stream",
     "text": [
      "4\n",
      "78\n",
      "9\n",
      "84\n"
     ]
    }
   ],
   "source": [
    "nums = [4, 78, 9, 84]\n",
    "for n in nums:\n",
    "    print(n)"
   ]
  },
  {
   "cell_type": "code",
   "execution_count": 41,
   "metadata": {},
   "outputs": [
    {
     "data": {
      "text/plain": [
       "array([0, 1, 2, 3])"
      ]
     },
     "execution_count": 41,
     "metadata": {},
     "output_type": "execute_result"
    }
   ],
   "source": [
    "np.arange(4)"
   ]
  },
  {
   "cell_type": "code",
   "execution_count": 45,
   "metadata": {},
   "outputs": [
    {
     "name": "stdout",
     "output_type": "stream",
     "text": [
      "Tabla del 3\n",
      "0\n",
      "3\n",
      "6\n",
      "9\n",
      "12\n",
      "15\n",
      "18\n",
      "21\n",
      "24\n",
      "27\n",
      "30\n",
      "Fin\n"
     ]
    }
   ],
   "source": [
    "numero = 0\n",
    "print('Tabla del 3')\n",
    "while numero <= 10:\n",
    "    print(f'{numero * 3}')\n",
    "    numero += 1\n",
    "print('Fin')"
   ]
  }
 ],
 "metadata": {
  "kernelspec": {
   "display_name": "Python 3.10.6 64-bit (windows store)",
   "language": "python",
   "name": "python3"
  },
  "language_info": {
   "codemirror_mode": {
    "name": "ipython",
    "version": 3
   },
   "file_extension": ".py",
   "mimetype": "text/x-python",
   "name": "python",
   "nbconvert_exporter": "python",
   "pygments_lexer": "ipython3",
   "version": "3.10.6"
  },
  "orig_nbformat": 4,
  "vscode": {
   "interpreter": {
    "hash": "ffd3508fdfd41c2fe8b2bf4437351a5f803aaa8ccdd420424324dd9aa6fbc0f8"
   }
  }
 },
 "nbformat": 4,
 "nbformat_minor": 2
}
