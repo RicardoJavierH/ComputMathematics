{
 "cells": [
  {
   "cell_type": "code",
   "execution_count": 1,
   "metadata": {},
   "outputs": [],
   "source": [
    "def mult5(x):\n",
    "    r = 5*x\n",
    "    return r"
   ]
  },
  {
   "cell_type": "code",
   "execution_count": 2,
   "metadata": {},
   "outputs": [
    {
     "data": {
      "text/plain": [
       "20"
      ]
     },
     "execution_count": 2,
     "metadata": {},
     "output_type": "execute_result"
    }
   ],
   "source": [
    "mult5(4)"
   ]
  },
  {
   "cell_type": "code",
   "execution_count": 3,
   "metadata": {},
   "outputs": [],
   "source": [
    "def suma(x,y):\n",
    "    return x+y"
   ]
  },
  {
   "cell_type": "code",
   "execution_count": 4,
   "metadata": {},
   "outputs": [
    {
     "data": {
      "text/plain": [
       "-2"
      ]
     },
     "execution_count": 4,
     "metadata": {},
     "output_type": "execute_result"
    }
   ],
   "source": [
    "suma(5,-7)"
   ]
  },
  {
   "cell_type": "code",
   "execution_count": 5,
   "metadata": {},
   "outputs": [],
   "source": [
    "import numpy as np"
   ]
  },
  {
   "cell_type": "code",
   "execution_count": 6,
   "metadata": {},
   "outputs": [],
   "source": [
    "def maximo(a,b):\n",
    "    if a < b:\n",
    "        return b\n",
    "    else:\n",
    "        return a"
   ]
  },
  {
   "cell_type": "code",
   "execution_count": 7,
   "metadata": {},
   "outputs": [
    {
     "data": {
      "text/plain": [
       "67"
      ]
     },
     "execution_count": 7,
     "metadata": {},
     "output_type": "execute_result"
    }
   ],
   "source": [
    "maximo(34,67)"
   ]
  },
  {
   "cell_type": "code",
   "execution_count": 8,
   "metadata": {},
   "outputs": [],
   "source": [
    "def sumaCom(vec):\n",
    "    #n = vec.size\n",
    "    n = len(vec)\n",
    "    s = 0\n",
    "    for i in range(n):\n",
    "        #print(\"i= \",i)\n",
    "        s = s + vec[i]\n",
    "        #print(\"s = \",s)\n",
    "    return s"
   ]
  },
  {
   "cell_type": "code",
   "execution_count": 9,
   "metadata": {},
   "outputs": [
    {
     "data": {
      "text/plain": [
       "10"
      ]
     },
     "execution_count": 9,
     "metadata": {},
     "output_type": "execute_result"
    }
   ],
   "source": [
    "v = np.array([1,2,3,4])\n",
    "sumaCom(v)"
   ]
  },
  {
   "cell_type": "code",
   "execution_count": 10,
   "metadata": {},
   "outputs": [
    {
     "name": "stdout",
     "output_type": "stream",
     "text": [
      "0\n",
      "1\n",
      "2\n"
     ]
    }
   ],
   "source": [
    "s = 0\n",
    "print(s)\n",
    "s = s + 1\n",
    "print(s)\n",
    "s = s + 1\n",
    "print(s)"
   ]
  },
  {
   "cell_type": "code",
   "execution_count": 11,
   "metadata": {},
   "outputs": [
    {
     "name": "stdout",
     "output_type": "stream",
     "text": [
      "0\n",
      "1\n",
      "2\n"
     ]
    }
   ],
   "source": [
    "s = 0\n",
    "print(s)\n",
    "s += 1\n",
    "print(s)\n",
    "s += 1\n",
    "print(s)\n"
   ]
  },
  {
   "cell_type": "code",
   "execution_count": 12,
   "metadata": {},
   "outputs": [
    {
     "name": "stdout",
     "output_type": "stream",
     "text": [
      "[[ 1 -2  0 -2]\n",
      " [-2  1  1 -2]\n",
      " [-1  1  0 -1]\n",
      " [-2 -1 -2 -2]]\n"
     ]
    }
   ],
   "source": [
    "A = np.random.randint(-2,2,(4,4))\n",
    "print(A)\n"
   ]
  },
  {
   "cell_type": "code",
   "execution_count": 13,
   "metadata": {},
   "outputs": [
    {
     "name": "stdout",
     "output_type": "stream",
     "text": [
      "[[ 1 -2  0 -2]\n",
      " [-2  1  1 -2]\n",
      " [-1  1  0 -1]\n",
      " [-2 -1 -2 -2]\n",
      " [ 0  0  0  0]] \n",
      "\n",
      "[[ 1. -2.  0. -2.  0.]\n",
      " [-2.  1.  1. -2.  0.]\n",
      " [-1.  1.  0. -1.  0.]\n",
      " [-2. -1. -2. -2.  0.]\n",
      " [ 0.  0.  0.  0.  0.]] \n",
      "\n",
      "[[  1.  -2.   0.  -2.   0.]\n",
      " [ -2.   1.   1.  -2.   0.]\n",
      " [ -1.   1.   0.  -1.   0.]\n",
      " [ -2.  -1.  -2.  -2.   0.]\n",
      " [  0.   0.   0.   0. -10.]] \n",
      "\n"
     ]
    }
   ],
   "source": [
    "B = np.append(A,[[0,0,0,0]],axis=0)\n",
    "print(B,\"\\n\")\n",
    "#aux = np.transpose(np.array([0,0,0,0,0]))\n",
    "aux = np.zeros((5,1))\n",
    "C = np.append(B,aux,axis=1)\n",
    "print(C,\"\\n\")\n",
    "C[4,4] = -10\n",
    "print(C,\"\\n\")"
   ]
  },
  {
   "cell_type": "code",
   "execution_count": 15,
   "metadata": {},
   "outputs": [
    {
     "name": "stdout",
     "output_type": "stream",
     "text": [
      "[-1.  -0.8 -0.6 -0.4 -0.2 -0.   0.2  0.4  0.6  0.8  1.   1.2  1.4  1.6\n",
      "  1.8  2. ]\n"
     ]
    }
   ],
   "source": [
    "vec = np.arange(-1.0,2.2,0.2)\n",
    "np.set_printoptions(precision=2,suppress=True)\n",
    "print(vec)"
   ]
  },
  {
   "cell_type": "code",
   "execution_count": 62,
   "metadata": {},
   "outputs": [
    {
     "name": "stdout",
     "output_type": "stream",
     "text": [
      "[[1 1 1]\n",
      " [2 2 2]\n",
      " [3 3 3]]\n"
     ]
    },
    {
     "data": {
      "text/plain": [
       "array([[   1,   10,    1,    1],\n",
       "       [   2,  100,    2,    2],\n",
       "       [   3, 1000,    3,    3]])"
      ]
     },
     "execution_count": 62,
     "metadata": {},
     "output_type": "execute_result"
    }
   ],
   "source": [
    "a = np.array([[1, 1,1], [2, 2,2], [3, 3,3]])\n",
    "print(a)\n",
    "np.insert(a, [1], [[10.],[100.],[1000.]], axis=1)"
   ]
  },
  {
   "cell_type": "code",
   "execution_count": 27,
   "metadata": {},
   "outputs": [],
   "source": [
    "cx = np.linspace(-4,4,4)\n",
    "cy = np.arctan(x)"
   ]
  },
  {
   "cell_type": "code",
   "execution_count": 44,
   "metadata": {},
   "outputs": [
    {
     "name": "stdout",
     "output_type": "stream",
     "text": [
      "[[-4.0], [-1.3333333333333335], [1.333333333333333], [4.0]]\n",
      "[[-1.3258176636680326], [-0.9272952180016123], [0.9272952180016121], [1.3258176636680326]]\n",
      "<class 'list'>\n",
      "4\n"
     ]
    }
   ],
   "source": [
    "n = len(cx)\n",
    "aux1 = cx.reshape(n,1).tolist()\n",
    "print(aux1)\n",
    "aux2 = cy.reshape(n,1).tolist()\n",
    "print(aux2)\n",
    "print(type(aux2))\n",
    "print(len(aux2))"
   ]
  },
  {
   "cell_type": "code",
   "execution_count": 73,
   "metadata": {},
   "outputs": [
    {
     "name": "stdout",
     "output_type": "stream",
     "text": [
      "[[0. 0. 0. 0. 0.]\n",
      " [0. 0. 0. 0. 0.]\n",
      " [0. 0. 0. 0. 0.]\n",
      " [0. 0. 0. 0. 0.]]\n",
      "[[0.0, 0.0, 0.0, 0.0, 0.0], [0.0, 0.0, 0.0, 0.0, 0.0], [0.0, 0.0, 0.0, 0.0, 0.0], [0.0, 0.0, 0.0, 0.0, 0.0]]\n",
      "[[0. 0. 0. 0. 0.]\n",
      " [0. 0. 0. 0. 0.]\n",
      " [0. 0. 0. 0. 0.]\n",
      " [0. 0. 0. 0. 0.]]\n"
     ]
    }
   ],
   "source": [
    "A = np.zeros((4,5)) # Matriz para construir la tabla de diferencias divididas \n",
    "print(A)\n",
    "B = A.tolist() \n",
    "print(B)\n",
    "C = np.array(B)\n",
    "print(C)"
   ]
  },
  {
   "cell_type": "code",
   "execution_count": 86,
   "metadata": {},
   "outputs": [
    {
     "name": "stdout",
     "output_type": "stream",
     "text": [
      "[[0. 0. 0. 0.]\n",
      " [0. 0. 0. 0.]\n",
      " [0. 0. 0. 0.]\n",
      " [0. 0. 0. 0.]]\n"
     ]
    },
    {
     "data": {
      "text/plain": [
       "array([[0., 3., 0., 0., 0.],\n",
       "       [0., 3., 0., 0., 0.],\n",
       "       [0., 3., 0., 0., 0.],\n",
       "       [0., 3., 0., 0., 0.]])"
      ]
     },
     "execution_count": 86,
     "metadata": {},
     "output_type": "execute_result"
    }
   ],
   "source": [
    "A = np.zeros((4,4)) # Matriz para construir la tabla de diferencias divididas \n",
    "print(A)\n",
    "lista = [[3.],[3.],[3.],[3.]]\n",
    "np.insert(A,[0],[[3.],[3.],[3.],[3.]], axis = 1) # Inserta cx en la columna 0\n",
    "np.insert(A,[1],lista, axis = 1) # Inserta cy en la segunda columna\n"
   ]
  },
  {
   "cell_type": "code",
   "execution_count": 85,
   "metadata": {},
   "outputs": [
    {
     "name": "stdout",
     "output_type": "stream",
     "text": [
      "[[0. 0. 0.]\n",
      " [0. 0. 0.]\n",
      " [0. 0. 0.]]\n"
     ]
    },
    {
     "data": {
      "text/plain": [
       "array([[0., 2., 0., 0.],\n",
       "       [0., 2., 0., 0.],\n",
       "       [0., 2., 0., 0.]])"
      ]
     },
     "execution_count": 85,
     "metadata": {},
     "output_type": "execute_result"
    }
   ],
   "source": [
    "a = np.array([[1, 1,1,1], [2, 2,2,2], [3, 3,3,3]])\n",
    "b = np.zeros((3,3))\n",
    "lista=[[2.],[2.],[2.]]\n",
    "print(b)\n",
    "np.insert(b, [1], lista, axis=1)"
   ]
  }
 ],
 "metadata": {
  "kernelspec": {
   "display_name": "Python 3.10.7 64-bit",
   "language": "python",
   "name": "python3"
  },
  "language_info": {
   "codemirror_mode": {
    "name": "ipython",
    "version": 3
   },
   "file_extension": ".py",
   "mimetype": "text/x-python",
   "name": "python",
   "nbconvert_exporter": "python",
   "pygments_lexer": "ipython3",
   "version": "3.10.7"
  },
  "orig_nbformat": 4,
  "vscode": {
   "interpreter": {
    "hash": "369f2c481f4da34e4445cda3fffd2e751bd1c4d706f27375911949ba6bb62e1c"
   }
  }
 },
 "nbformat": 4,
 "nbformat_minor": 2
}
