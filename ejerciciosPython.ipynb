{
 "cells": [
  {
   "cell_type": "code",
   "execution_count": 9,
   "metadata": {},
   "outputs": [],
   "source": [
    "def mult5(x):\n",
    "    r = 5*x\n",
    "    return r"
   ]
  },
  {
   "cell_type": "code",
   "execution_count": 10,
   "metadata": {},
   "outputs": [
    {
     "data": {
      "text/plain": [
       "20"
      ]
     },
     "execution_count": 10,
     "metadata": {},
     "output_type": "execute_result"
    }
   ],
   "source": [
    "mult5(4)"
   ]
  },
  {
   "cell_type": "code",
   "execution_count": 11,
   "metadata": {},
   "outputs": [],
   "source": [
    "def suma(x,y):\n",
    "    return x+y"
   ]
  },
  {
   "cell_type": "code",
   "execution_count": 12,
   "metadata": {},
   "outputs": [
    {
     "data": {
      "text/plain": [
       "-2"
      ]
     },
     "execution_count": 12,
     "metadata": {},
     "output_type": "execute_result"
    }
   ],
   "source": [
    "suma(5,-7)"
   ]
  },
  {
   "cell_type": "code",
   "execution_count": 13,
   "metadata": {},
   "outputs": [],
   "source": [
    "import numpy as np"
   ]
  },
  {
   "cell_type": "code",
   "execution_count": 14,
   "metadata": {},
   "outputs": [],
   "source": [
    "def maximo(a,b):\n",
    "    if a < b:\n",
    "        return b\n",
    "    else:\n",
    "        return a"
   ]
  },
  {
   "cell_type": "code",
   "execution_count": 15,
   "metadata": {},
   "outputs": [
    {
     "data": {
      "text/plain": [
       "67"
      ]
     },
     "execution_count": 15,
     "metadata": {},
     "output_type": "execute_result"
    }
   ],
   "source": [
    "maximo(34,67)"
   ]
  },
  {
   "cell_type": "code",
   "execution_count": 20,
   "metadata": {},
   "outputs": [],
   "source": [
    "def sumaCom(vec):\n",
    "    #n = vec.size\n",
    "    n = len(vec)\n",
    "    s = 0\n",
    "    for i in range(n):\n",
    "        #print(\"i= \",i)\n",
    "        s = s + vec[i]\n",
    "        #print(\"s = \",s)\n",
    "    return s"
   ]
  },
  {
   "cell_type": "code",
   "execution_count": 21,
   "metadata": {},
   "outputs": [
    {
     "data": {
      "text/plain": [
       "10"
      ]
     },
     "execution_count": 21,
     "metadata": {},
     "output_type": "execute_result"
    }
   ],
   "source": [
    "v = np.array([1,2,3,4])\n",
    "sumaCom(v)"
   ]
  },
  {
   "cell_type": "code",
   "execution_count": 18,
   "metadata": {},
   "outputs": [
    {
     "name": "stdout",
     "output_type": "stream",
     "text": [
      "0\n",
      "1\n",
      "2\n"
     ]
    }
   ],
   "source": [
    "s = 0\n",
    "print(s)\n",
    "s = s + 1\n",
    "print(s)\n",
    "s = s + 1\n",
    "print(s)"
   ]
  },
  {
   "cell_type": "code",
   "execution_count": 19,
   "metadata": {},
   "outputs": [
    {
     "name": "stdout",
     "output_type": "stream",
     "text": [
      "0\n",
      "1\n",
      "2\n"
     ]
    }
   ],
   "source": [
    "s = 0\n",
    "print(s)\n",
    "s += 1\n",
    "print(s)\n",
    "s += 1\n",
    "print(s)\n"
   ]
  },
  {
   "cell_type": "code",
   "execution_count": 24,
   "metadata": {},
   "outputs": [
    {
     "name": "stdout",
     "output_type": "stream",
     "text": [
      "[[-2 -2  0  0]\n",
      " [ 1  0 -2 -1]\n",
      " [-1  0 -1  0]\n",
      " [ 0  0  1 -2]]\n"
     ]
    }
   ],
   "source": [
    "A = np.random.randint(-2,2,(4,4))\n",
    "print(A)\n"
   ]
  },
  {
   "cell_type": "code",
   "execution_count": 38,
   "metadata": {},
   "outputs": [
    {
     "name": "stdout",
     "output_type": "stream",
     "text": [
      "[[-2 -2  0  0]\n",
      " [ 1  0 -2 -1]\n",
      " [-1  0 -1  0]\n",
      " [ 0  0  1 -2]\n",
      " [ 0  0  0  0]] \n",
      "\n",
      "[[-2. -2.  0.  0.  0.]\n",
      " [ 1.  0. -2. -1.  0.]\n",
      " [-1.  0. -1.  0.  0.]\n",
      " [ 0.  0.  1. -2.  0.]\n",
      " [ 0.  0.  0.  0.  0.]] \n",
      "\n",
      "[[ -2.  -2.   0.   0.   0.]\n",
      " [  1.   0.  -2.  -1.   0.]\n",
      " [ -1.   0.  -1.   0.   0.]\n",
      " [  0.   0.   1.  -2.   0.]\n",
      " [  0.   0.   0.   0. -10.]] \n",
      "\n"
     ]
    }
   ],
   "source": [
    "B = np.append(A,[[0,0,0,0]],axis=0)\n",
    "print(B,\"\\n\")\n",
    "#aux = np.transpose(np.array([0,0,0,0,0]))\n",
    "aux = np.zeros((5,1))\n",
    "C = np.append(B,aux,axis=1)\n",
    "print(C,\"\\n\")\n",
    "C[4,4] = -10\n",
    "print(C,\"\\n\")"
   ]
  },
  {
   "cell_type": "code",
   "execution_count": 44,
   "metadata": {},
   "outputs": [
    {
     "name": "stdout",
     "output_type": "stream",
     "text": [
      "[-1.  -0.8 -0.6 -0.4 -0.2 -0.   0.2  0.4  0.6  0.8  1.   1.2  1.4  1.6\n",
      "  1.8  2. ]\n"
     ]
    }
   ],
   "source": [
    "vec = np.arange(-1.0,2.2,0.2)\n",
    "np.set_printoptions(precision=2,suppress=True)\n",
    "print(vec)"
   ]
  }
 ],
 "metadata": {
  "kernelspec": {
   "display_name": "Python 3.10.6 64-bit (microsoft store)",
   "language": "python",
   "name": "python3"
  },
  "language_info": {
   "codemirror_mode": {
    "name": "ipython",
    "version": 3
   },
   "file_extension": ".py",
   "mimetype": "text/x-python",
   "name": "python",
   "nbconvert_exporter": "python",
   "pygments_lexer": "ipython3",
   "version": "3.10.7"
  },
  "orig_nbformat": 4,
  "vscode": {
   "interpreter": {
    "hash": "ffd3508fdfd41c2fe8b2bf4437351a5f803aaa8ccdd420424324dd9aa6fbc0f8"
   }
  }
 },
 "nbformat": 4,
 "nbformat_minor": 2
}
