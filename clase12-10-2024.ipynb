{
 "cells": [
  {
   "cell_type": "code",
   "execution_count": 1,
   "metadata": {},
   "outputs": [],
   "source": [
    "import numpy as np"
   ]
  },
  {
   "cell_type": "code",
   "execution_count": 10,
   "metadata": {},
   "outputs": [
    {
     "name": "stdout",
     "output_type": "stream",
     "text": [
      "[[1 2]\n",
      " [3 4]\n",
      " [5 6]]\n",
      "<class 'numpy.ndarray'>\n",
      "(3, 2)\n",
      "6\n",
      "int64\n",
      "48\n"
     ]
    }
   ],
   "source": [
    "data = np.array([[1, 2], [3, 4], [5, 6]])\n",
    "print(data)\n",
    "print(type(data))\n",
    "print(data.shape)\n",
    "print(data.size)\n",
    "print(data.dtype)\n",
    "print(data.nbytes)"
   ]
  },
  {
   "cell_type": "code",
   "execution_count": 18,
   "metadata": {},
   "outputs": [
    {
     "name": "stdout",
     "output_type": "stream",
     "text": [
      "(3,)\n",
      "int64\n",
      "[11. 12. 13.]\n",
      "float16\n",
      "[1.+0.j 2.+0.j 3.+0.j]\n"
     ]
    }
   ],
   "source": [
    "matriz = np.array([1, 2, 3], dtype=np.int64)\n",
    "print(matriz.shape)\n",
    "print(matriz.dtype)\n",
    "matriz2 = np.array([11, 12, 13], dtype=np.float16)\n",
    "print(matriz2)\n",
    "print(matriz2.dtype)\n",
    "matriz3 = np.array([1, 2, 3], dtype=np.complex64)\n",
    "print(matriz3)"
   ]
  },
  {
   "cell_type": "code",
   "execution_count": 23,
   "metadata": {},
   "outputs": [
    {
     "name": "stdout",
     "output_type": "stream",
     "text": [
      "[2.+0.j 4.+0.j 6.+0.j]\n",
      "complex64\n"
     ]
    }
   ],
   "source": [
    "mat1 = np.array([1 , 2, 3], dtype = np.complex64)\n",
    "mat2 = np.array([1 , 2, 3], dtype = np.complex64)\n",
    "mat3 = mat1 + mat2\n",
    "print(mat3)\n",
    "print(mat3.dtype)"
   ]
  },
  {
   "cell_type": "code",
   "execution_count": 35,
   "metadata": {},
   "outputs": [
    {
     "name": "stdout",
     "output_type": "stream",
     "text": [
      "[ 0.7568025-0.j  0.4121185-0.j -0.2879033-0.j]\n",
      "[ 0.7568025  0.4121185 -0.2879033]\n",
      "[-0. -0. -0.]\n"
     ]
    }
   ],
   "source": [
    "#np.sqrt(np.array([-1, 0, 1]));\n",
    "mat5 = np.sin(np.array([-4, 9, 16], dtype = np.complex64));\n",
    "print(mat5)\n",
    "print(mat5.real)\n",
    "print(mat5.imag)\n"
   ]
  },
  {
   "cell_type": "code",
   "execution_count": 79,
   "metadata": {},
   "outputs": [
    {
     "name": "stdout",
     "output_type": "stream",
     "text": [
      "<class 'numpy.ndarray'>\n",
      "int32\n",
      "[1 1 1 1]\n",
      "[6 6 6 6]\n"
     ]
    }
   ],
   "source": [
    "mat6 = np.ones(4,dtype=np.int32)\n",
    "print(type(mat6))\n",
    "print(mat6.dtype)\n",
    "print(mat6)\n",
    "mat7 = 6*mat6\n",
    "print(mat7)"
   ]
  },
  {
   "cell_type": "code",
   "execution_count": 89,
   "metadata": {},
   "outputs": [
    {
     "name": "stdout",
     "output_type": "stream",
     "text": [
      "int8\n",
      "[1 1 1]\n",
      "[3 3 3]\n"
     ]
    }
   ],
   "source": [
    "mat8 = np.empty(3,dtype=np.int8)\n",
    "print(mat8.dtype)\n",
    "print(mat8)\n",
    "mat8.fill(3)\n",
    "print(mat8)"
   ]
  },
  {
   "cell_type": "code",
   "execution_count": 86,
   "metadata": {},
   "outputs": [
    {
     "name": "stdout",
     "output_type": "stream",
     "text": [
      "[0. 2. 4. 6. 8.]\n",
      "[ 0.          1.11111111  2.22222222  3.33333333  4.44444444  5.55555556\n",
      "  6.66666667  7.77777778  8.88888889 10.        ]\n"
     ]
    }
   ],
   "source": [
    "mat9 = np.arange(0.,10.,2.)\n",
    "print(mat9)\n",
    "mat10 = np.linspace(0,10,10)\n",
    "print(mat10)"
   ]
  },
  {
   "cell_type": "code",
   "execution_count": 109,
   "metadata": {},
   "outputs": [
    {
     "name": "stdout",
     "output_type": "stream",
     "text": [
      "[12 12]\n",
      "int8\n"
     ]
    }
   ],
   "source": [
    "mat12 = np.empty(2,dtype=np.int8)\n",
    "print(mat12)\n",
    "print(mat12.dtype)\n",
    "mat12.fill(12)\n"
   ]
  }
 ],
 "metadata": {
  "kernelspec": {
   "display_name": "Python 3",
   "language": "python",
   "name": "python3"
  },
  "language_info": {
   "codemirror_mode": {
    "name": "ipython",
    "version": 3
   },
   "file_extension": ".py",
   "mimetype": "text/x-python",
   "name": "python",
   "nbconvert_exporter": "python",
   "pygments_lexer": "ipython3",
   "version": "3.12.6"
  }
 },
 "nbformat": 4,
 "nbformat_minor": 2
}
