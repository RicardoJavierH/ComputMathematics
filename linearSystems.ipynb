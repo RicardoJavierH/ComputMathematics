{
 "cells": [
  {
   "cell_type": "code",
   "execution_count": 5,
   "metadata": {},
   "outputs": [],
   "source": [
    "import numpy as np\n",
    "np.set_printoptions(precision=2,suppress=True)"
   ]
  },
  {
   "cell_type": "code",
   "execution_count": 31,
   "metadata": {},
   "outputs": [
    {
     "name": "stdout",
     "output_type": "stream",
     "text": [
      "[[-9.44  2.92  6.74]\n",
      " [-1.94  9.05 -1.74]\n",
      " [-2.55 -3.87 -4.89]]\n",
      "[[ 0.88]\n",
      " [-2.24]\n",
      " [ 9.96]]\n"
     ]
    }
   ],
   "source": [
    "A = np.random.uniform(-10,11,(3,3))\n",
    "print(A)\n",
    "b = np.random.uniform(-10,11,(3,1))\n",
    "print(b)"
   ]
  },
  {
   "cell_type": "code",
   "execution_count": 32,
   "metadata": {},
   "outputs": [
    {
     "name": "stdout",
     "output_type": "stream",
     "text": [
      "[[-9.44  2.92  6.74  0.88]\n",
      " [-1.94  9.05 -1.74 -2.24]\n",
      " [-2.55 -3.87 -4.89  9.96]]\n"
     ]
    }
   ],
   "source": [
    "Ab = np.append(A,b,axis=1)\n",
    "print(Ab)"
   ]
  },
  {
   "cell_type": "code",
   "execution_count": 33,
   "metadata": {},
   "outputs": [
    {
     "name": "stdout",
     "output_type": "stream",
     "text": [
      "[[-9.44  2.92  6.74  0.88]\n",
      " [ 0.    8.45 -3.13 -2.42]\n",
      " [-2.55 -3.87 -4.89  9.96]]\n"
     ]
    }
   ],
   "source": [
    "ratio = Ab[1,0]/Ab[0,0]\n",
    "Ab[1,:] = Ab[1,:] - ratio*Ab[0,:]\n",
    "print(Ab)"
   ]
  },
  {
   "cell_type": "code",
   "execution_count": 34,
   "metadata": {},
   "outputs": [
    {
     "name": "stdout",
     "output_type": "stream",
     "text": [
      "[[-9.44  2.92  6.74  0.88]\n",
      " [ 0.    8.45 -3.13 -2.42]\n",
      " [ 0.   -4.66 -6.71  9.72]]\n"
     ]
    }
   ],
   "source": [
    "ratio = Ab[2,0]/Ab[0,0]\n",
    "Ab[2,:] = Ab[2,:] - ratio*Ab[0,:]\n",
    "print(Ab)"
   ]
  },
  {
   "cell_type": "code",
   "execution_count": 35,
   "metadata": {},
   "outputs": [
    {
     "name": "stdout",
     "output_type": "stream",
     "text": [
      "[[-9.44  2.92  6.74  0.88]\n",
      " [ 0.    8.45 -3.13 -2.42]\n",
      " [ 0.    0.   -8.43  8.39]]\n"
     ]
    }
   ],
   "source": [
    "ratio = Ab[2,1]/Ab[1,1]\n",
    "Ab[2,:] = Ab[2,:] - ratio*Ab[1,:]\n",
    "print(Ab)"
   ]
  },
  {
   "cell_type": "code",
   "execution_count": 36,
   "metadata": {},
   "outputs": [
    {
     "name": "stdout",
     "output_type": "stream",
     "text": [
      "[[-1.  ]\n",
      " [-0.65]\n",
      " [-0.99]]\n"
     ]
    }
   ],
   "source": [
    "x = np.zeros((3,1))\n",
    "x[2,0] = Ab[2,3]/Ab[2,2]\n",
    "x[1,0] = (Ab[1,3] - Ab[1,2]*x[2,0])/Ab[1,1]\n",
    "x[0,0] = (Ab[0,3] - Ab[0,2]*x[2,0]-Ab[0,1]*x[1,0])/Ab[0,0]\n",
    "print(x)"
   ]
  },
  {
   "cell_type": "code",
   "execution_count": 37,
   "metadata": {},
   "outputs": [
    {
     "name": "stdout",
     "output_type": "stream",
     "text": [
      "[[ 0.88]\n",
      " [-2.24]\n",
      " [ 9.96]] \n",
      "\n",
      "[[ 0.88]\n",
      " [-2.24]\n",
      " [ 9.96]]\n"
     ]
    }
   ],
   "source": [
    "print(np.matmul(A,x),\"\\n\")\n",
    "print(b)"
   ]
  },
  {
   "cell_type": "code",
   "execution_count": 39,
   "metadata": {},
   "outputs": [
    {
     "name": "stdout",
     "output_type": "stream",
     "text": [
      "(3, 4)\n"
     ]
    },
    {
     "data": {
      "text/plain": [
       "4"
      ]
     },
     "execution_count": 39,
     "metadata": {},
     "output_type": "execute_result"
    }
   ],
   "source": [
    "dim=np.shape(Ab)\n",
    "print(dim)\n",
    "dim[0]\n",
    "dim[1]"
   ]
  },
  {
   "cell_type": "code",
   "execution_count": 40,
   "metadata": {},
   "outputs": [],
   "source": [
    "def Escalona(A):\n",
    "    dim=np.shape(A)\n",
    "    nfil = dim[0]\n",
    "    ncol = dim[1]\n",
    "    for j in range(0,ncol):\n",
    "        for i in range(j+1,nfil+1):\n",
    "            ratio = A[i,j]/A[j,j]\n",
    "            A[i,:] = A[i,:] - ratio * A[j,:]\n",
    "    return A\n",
    "        "
   ]
  },
  {
   "cell_type": "code",
   "execution_count": 44,
   "metadata": {},
   "outputs": [
    {
     "ename": "IndexError",
     "evalue": "index 3 is out of bounds for axis 0 with size 3",
     "output_type": "error",
     "traceback": [
      "\u001b[1;31m---------------------------------------------------------------------------\u001b[0m",
      "\u001b[1;31mIndexError\u001b[0m                                Traceback (most recent call last)",
      "\u001b[1;32md:\\PythonProjects\\LinearSystems.ipynb Celda 11\u001b[0m in \u001b[0;36m<cell line: 3>\u001b[1;34m()\u001b[0m\n\u001b[0;32m      <a href='vscode-notebook-cell:/d%3A/PythonProjects/LinearSystems.ipynb#X14sZmlsZQ%3D%3D?line=0'>1</a>\u001b[0m A \u001b[39m=\u001b[39m np\u001b[39m.\u001b[39mrandom\u001b[39m.\u001b[39mnormal(\u001b[39m-\u001b[39m\u001b[39m10\u001b[39m,\u001b[39m11\u001b[39m,(\u001b[39m3\u001b[39m,\u001b[39m3\u001b[39m))\n\u001b[0;32m      <a href='vscode-notebook-cell:/d%3A/PythonProjects/LinearSystems.ipynb#X14sZmlsZQ%3D%3D?line=1'>2</a>\u001b[0m b \u001b[39m=\u001b[39m np\u001b[39m.\u001b[39mrandom\u001b[39m.\u001b[39mnormal(\u001b[39m-\u001b[39m\u001b[39m10\u001b[39m,\u001b[39m11\u001b[39m,(\u001b[39m3\u001b[39m,\u001b[39m1\u001b[39m))\n\u001b[1;32m----> <a href='vscode-notebook-cell:/d%3A/PythonProjects/LinearSystems.ipynb#X14sZmlsZQ%3D%3D?line=2'>3</a>\u001b[0m Escalona(A)\n",
      "\u001b[1;32md:\\PythonProjects\\LinearSystems.ipynb Celda 11\u001b[0m in \u001b[0;36mEscalona\u001b[1;34m(A)\u001b[0m\n\u001b[0;32m      <a href='vscode-notebook-cell:/d%3A/PythonProjects/LinearSystems.ipynb#X14sZmlsZQ%3D%3D?line=4'>5</a>\u001b[0m \u001b[39mfor\u001b[39;00m j \u001b[39min\u001b[39;00m \u001b[39mrange\u001b[39m(\u001b[39m0\u001b[39m,ncol):\n\u001b[0;32m      <a href='vscode-notebook-cell:/d%3A/PythonProjects/LinearSystems.ipynb#X14sZmlsZQ%3D%3D?line=5'>6</a>\u001b[0m     \u001b[39mfor\u001b[39;00m i \u001b[39min\u001b[39;00m \u001b[39mrange\u001b[39m(j\u001b[39m+\u001b[39m\u001b[39m1\u001b[39m,nfil\u001b[39m+\u001b[39m\u001b[39m1\u001b[39m):\n\u001b[1;32m----> <a href='vscode-notebook-cell:/d%3A/PythonProjects/LinearSystems.ipynb#X14sZmlsZQ%3D%3D?line=6'>7</a>\u001b[0m         ratio \u001b[39m=\u001b[39m A[i,j]\u001b[39m/\u001b[39mA[j,j]\n\u001b[0;32m      <a href='vscode-notebook-cell:/d%3A/PythonProjects/LinearSystems.ipynb#X14sZmlsZQ%3D%3D?line=7'>8</a>\u001b[0m         A[i,:] \u001b[39m=\u001b[39m A[i,:] \u001b[39m-\u001b[39m ratio \u001b[39m*\u001b[39m A[j,:]\n\u001b[0;32m      <a href='vscode-notebook-cell:/d%3A/PythonProjects/LinearSystems.ipynb#X14sZmlsZQ%3D%3D?line=8'>9</a>\u001b[0m \u001b[39mreturn\u001b[39;00m A\n",
      "\u001b[1;31mIndexError\u001b[0m: index 3 is out of bounds for axis 0 with size 3"
     ]
    }
   ],
   "source": [
    "A = np.random.normal(-10,11,(3,3))\n",
    "b = np.random.normal(-10,11,(3,1))\n",
    "Escalona(A)"
   ]
  }
 ],
 "metadata": {
  "kernelspec": {
   "display_name": "Python 3.10.7 64-bit (microsoft store)",
   "language": "python",
   "name": "python3"
  },
  "language_info": {
   "codemirror_mode": {
    "name": "ipython",
    "version": 3
   },
   "file_extension": ".py",
   "mimetype": "text/x-python",
   "name": "python",
   "nbconvert_exporter": "python",
   "pygments_lexer": "ipython3",
   "version": "3.10.7"
  },
  "orig_nbformat": 4,
  "vscode": {
   "interpreter": {
    "hash": "ffd3508fdfd41c2fe8b2bf4437351a5f803aaa8ccdd420424324dd9aa6fbc0f8"
   }
  }
 },
 "nbformat": 4,
 "nbformat_minor": 2
}
