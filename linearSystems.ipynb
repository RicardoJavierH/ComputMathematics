{
 "cells": [
  {
   "cell_type": "code",
   "execution_count": 1,
   "metadata": {},
   "outputs": [],
   "source": [
    "import numpy as np\n",
    "np.set_printoptions(precision=2,suppress=True)"
   ]
  },
  {
   "cell_type": "code",
   "execution_count": 31,
   "metadata": {},
   "outputs": [
    {
     "name": "stdout",
     "output_type": "stream",
     "text": [
      "[[-9.44  2.92  6.74]\n",
      " [-1.94  9.05 -1.74]\n",
      " [-2.55 -3.87 -4.89]]\n",
      "[[ 0.88]\n",
      " [-2.24]\n",
      " [ 9.96]]\n"
     ]
    }
   ],
   "source": [
    "A = np.random.uniform(-10,11,(3,3))\n",
    "print(A)\n",
    "b = np.random.uniform(-10,11,(3,1))\n",
    "print(b)"
   ]
  },
  {
   "cell_type": "code",
   "execution_count": 32,
   "metadata": {},
   "outputs": [
    {
     "name": "stdout",
     "output_type": "stream",
     "text": [
      "[[-9.44  2.92  6.74  0.88]\n",
      " [-1.94  9.05 -1.74 -2.24]\n",
      " [-2.55 -3.87 -4.89  9.96]]\n"
     ]
    }
   ],
   "source": [
    "Ab = np.append(A,b,axis=1)\n",
    "print(Ab)"
   ]
  },
  {
   "cell_type": "code",
   "execution_count": 33,
   "metadata": {},
   "outputs": [
    {
     "name": "stdout",
     "output_type": "stream",
     "text": [
      "[[-9.44  2.92  6.74  0.88]\n",
      " [ 0.    8.45 -3.13 -2.42]\n",
      " [-2.55 -3.87 -4.89  9.96]]\n"
     ]
    }
   ],
   "source": [
    "ratio = Ab[1,0]/Ab[0,0]\n",
    "Ab[1,:] = Ab[1,:] - ratio*Ab[0,:]\n",
    "print(Ab)"
   ]
  },
  {
   "cell_type": "code",
   "execution_count": 34,
   "metadata": {},
   "outputs": [
    {
     "name": "stdout",
     "output_type": "stream",
     "text": [
      "[[-9.44  2.92  6.74  0.88]\n",
      " [ 0.    8.45 -3.13 -2.42]\n",
      " [ 0.   -4.66 -6.71  9.72]]\n"
     ]
    }
   ],
   "source": [
    "ratio = Ab[2,0]/Ab[0,0]\n",
    "Ab[2,:] = Ab[2,:] - ratio*Ab[0,:]\n",
    "print(Ab)"
   ]
  },
  {
   "cell_type": "code",
   "execution_count": 35,
   "metadata": {},
   "outputs": [
    {
     "name": "stdout",
     "output_type": "stream",
     "text": [
      "[[-9.44  2.92  6.74  0.88]\n",
      " [ 0.    8.45 -3.13 -2.42]\n",
      " [ 0.    0.   -8.43  8.39]]\n"
     ]
    }
   ],
   "source": [
    "ratio = Ab[2,1]/Ab[1,1]\n",
    "Ab[2,:] = Ab[2,:] - ratio*Ab[1,:]\n",
    "print(Ab)"
   ]
  },
  {
   "cell_type": "code",
   "execution_count": 36,
   "metadata": {},
   "outputs": [
    {
     "name": "stdout",
     "output_type": "stream",
     "text": [
      "[[-1.  ]\n",
      " [-0.65]\n",
      " [-0.99]]\n"
     ]
    }
   ],
   "source": [
    "x = np.zeros((3,1))\n",
    "x[2,0] = Ab[2,3]/Ab[2,2]\n",
    "x[1,0] = (Ab[1,3] - Ab[1,2]*x[2,0])/Ab[1,1]\n",
    "x[0,0] = (Ab[0,3] - Ab[0,2]*x[2,0]-Ab[0,1]*x[1,0])/Ab[0,0]\n",
    "print(x)"
   ]
  },
  {
   "cell_type": "code",
   "execution_count": 37,
   "metadata": {},
   "outputs": [
    {
     "name": "stdout",
     "output_type": "stream",
     "text": [
      "[[ 0.88]\n",
      " [-2.24]\n",
      " [ 9.96]] \n",
      "\n",
      "[[ 0.88]\n",
      " [-2.24]\n",
      " [ 9.96]]\n"
     ]
    }
   ],
   "source": [
    "print(np.matmul(A,x),\"\\n\")\n",
    "print(b)"
   ]
  },
  {
   "cell_type": "code",
   "execution_count": 39,
   "metadata": {},
   "outputs": [
    {
     "name": "stdout",
     "output_type": "stream",
     "text": [
      "(3, 4)\n"
     ]
    },
    {
     "data": {
      "text/plain": [
       "4"
      ]
     },
     "execution_count": 39,
     "metadata": {},
     "output_type": "execute_result"
    }
   ],
   "source": [
    "dim=np.shape(Ab)\n",
    "print(dim)\n",
    "dim[0]\n",
    "dim[1]"
   ]
  },
  {
   "cell_type": "code",
   "execution_count": 5,
   "metadata": {},
   "outputs": [],
   "source": [
    "def Escalona(A):\n",
    "    dim=np.shape(A)\n",
    "    nfil = dim[0]\n",
    "    ncol = dim[1]\n",
    "    for j in range(0,ncol):\n",
    "        for i in range(j+1,nfil):\n",
    "            ratio = A[i,j]/A[j,j]\n",
    "            A[i,:] = A[i,:] - ratio * A[j,:]\n",
    "    return A\n",
    "        "
   ]
  },
  {
   "cell_type": "code",
   "execution_count": 6,
   "metadata": {},
   "outputs": [
    {
     "data": {
      "text/plain": [
       "array([[-10.57,  -8.8 , -29.68],\n",
       "       [  0.  ,  -2.83,  -1.39],\n",
       "       [  0.  ,  -0.  ,  33.94]])"
      ]
     },
     "execution_count": 6,
     "metadata": {},
     "output_type": "execute_result"
    }
   ],
   "source": [
    "A = np.random.normal(-10,11,(3,3))\n",
    "b = np.random.normal(-10,11,(3,1))\n",
    "Escalona(A)"
   ]
  },
  {
   "cell_type": "code",
   "execution_count": 16,
   "metadata": {},
   "outputs": [
    {
     "name": "stdout",
     "output_type": "stream",
     "text": [
      "A:\n",
      " [[ 2 -2]\n",
      " [ 0  2]\n",
      " [ 1 -1]]\n",
      "B:\n",
      " [[-1  0]\n",
      " [ 0  2]]\n",
      "AB:\n",
      " [[-2 -4]\n",
      " [ 0  4]\n",
      " [-1 -2]]\n",
      "AB2:\n",
      " [[-2 -4]\n",
      " [ 0  4]\n",
      " [-1 -2]]\n"
     ]
    }
   ],
   "source": [
    "''' Matrix product'''\n",
    "A = np.random.randint(-2,3,(3,2))\n",
    "print(\"A:\\n\",A)\n",
    "B = np.random.randint(-2,3,(2,2))\n",
    "print(\"B:\\n\",B)\n",
    "AB = A @ B\n",
    "print(\"AB:\\n\",AB)\n",
    "AB2 = np.dot(A,B)\n",
    "print(\"AB2:\\n\",AB2)"
   ]
  },
  {
   "cell_type": "code",
   "execution_count": 7,
   "metadata": {},
   "outputs": [
    {
     "name": "stdout",
     "output_type": "stream",
     "text": [
      "[[ 3 -2 -4]\n",
      " [-1  0  2]\n",
      " [ 1 -3 -1]\n",
      " [-1 -3  4]\n",
      " [-4  4 -3]]\n",
      "[[3 2 4]\n",
      " [1 0 2]\n",
      " [1 3 1]\n",
      " [1 3 4]\n",
      " [4 4 3]]\n",
      "3\n",
      "0\n"
     ]
    }
   ],
   "source": [
    "A = np.random.randint(-4,5,(5,3))\n",
    "print(A)\n",
    "print(np.abs(A))\n",
    "print(np.argmax(np.abs(A[1:,0]))) \n",
    "print(A[:,0].argmax())"
   ]
  },
  {
   "cell_type": "code",
   "execution_count": 2,
   "metadata": {},
   "outputs": [
    {
     "data": {
      "text/plain": [
       "[10, 9, 8, 7, 6, 5, 4, 3, 2, 1, 0]"
      ]
     },
     "execution_count": 2,
     "metadata": {},
     "output_type": "execute_result"
    }
   ],
   "source": [
    "list(range(10,-1,-1))"
   ]
  },
  {
   "cell_type": "code",
   "execution_count": 1,
   "metadata": {},
   "outputs": [],
   "source": [
    "import numpy as np\n",
    "import numpy.linalg as la"
   ]
  },
  {
   "cell_type": "code",
   "execution_count": 6,
   "metadata": {},
   "outputs": [
    {
     "name": "stdout",
     "output_type": "stream",
     "text": [
      "A:\n",
      " [[ -0.65673015   0.80011953 -20.54222096]\n",
      " [-11.17034804  -8.68542902  -8.51641667]\n",
      " [  2.04234042  -3.0149944    3.20327688]] \n",
      "\n",
      "-1006.3751422531527\n"
     ]
    }
   ],
   "source": [
    "A = np.random.normal(-10,11,(3,3))\n",
    "print(\"A:\\n\", A,\"\\n\")\n",
    "d = la.det(A)\n",
    "print(d)"
   ]
  }
 ],
 "metadata": {
  "kernelspec": {
   "display_name": "Python 3.10.7 64-bit (microsoft store)",
   "language": "python",
   "name": "python3"
  },
  "language_info": {
   "codemirror_mode": {
    "name": "ipython",
    "version": 3
   },
   "file_extension": ".py",
   "mimetype": "text/x-python",
   "name": "python",
   "nbconvert_exporter": "python",
   "pygments_lexer": "ipython3",
   "version": "3.10.7"
  },
  "orig_nbformat": 4,
  "vscode": {
   "interpreter": {
    "hash": "ffd3508fdfd41c2fe8b2bf4437351a5f803aaa8ccdd420424324dd9aa6fbc0f8"
   }
  }
 },
 "nbformat": 4,
 "nbformat_minor": 2
}
