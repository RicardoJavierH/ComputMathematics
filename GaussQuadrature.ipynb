{
 "cells": [
  {
   "cell_type": "code",
   "execution_count": 1,
   "metadata": {},
   "outputs": [],
   "source": [
    "from scipy import integrate\n",
    "import numpy as np\n"
   ]
  },
  {
   "cell_type": "code",
   "execution_count": 23,
   "metadata": {},
   "outputs": [
    {
     "data": {
      "text/plain": [
       "(0.11111111111111102, 0.0)"
      ]
     },
     "execution_count": 23,
     "metadata": {},
     "output_type": "execute_result"
    }
   ],
   "source": [
    "f = lambda x: x**8\n",
    "integrate.quadrature(f,0.0,1.0,maxiter=6)"
   ]
  },
  {
   "cell_type": "code",
   "execution_count": 16,
   "metadata": {},
   "outputs": [
    {
     "data": {
      "text/plain": [
       "(0.9999999999999535, 3.96115362732985e-11)"
      ]
     },
     "execution_count": 16,
     "metadata": {},
     "output_type": "execute_result"
    }
   ],
   "source": [
    "integrate.quadrature(np.cos, 0.0, np.pi/2,maxiter=20)"
   ]
  },
  {
   "cell_type": "code",
   "execution_count": 1,
   "metadata": {},
   "outputs": [],
   "source": [
    "import numpy as np\n",
    "from numpy import pi, sin, cos, exp, log, sqrt\n",
    "from scipy import linalg, special"
   ]
  },
  {
   "cell_type": "code",
   "execution_count": 2,
   "metadata": {},
   "outputs": [],
   "source": [
    "def gauss_legendre(n, lower=-1, upper=1):\n",
    "    '''\n",
    "    Gauss-Legendre quadrature:\n",
    "    \n",
    "    A rule of order 2*n-1 on the interval [lower, upper] \n",
    "    with respect to the weight function w(x) = 1.\n",
    "    '''\n",
    "    nodes, weights = special.roots_legendre(n)\n",
    "    if lower != -1 or upper != 1:\n",
    "        nodes = (upper+lower)/2 + (upper-lower)/2*nodes\n",
    "        weights = (upper-lower)/2*weights\n",
    "    return nodes, weights"
   ]
  },
  {
   "cell_type": "code",
   "execution_count": 3,
   "metadata": {},
   "outputs": [],
   "source": [
    "def prod_gauss(n1, n2):\n",
    "    '''\n",
    "    Product Gauss rule (Stroud C2: 3-1, 5-4, 7-4):\n",
    "    \n",
    "    The product form of a Gauss-Legendre quadrature rule.\n",
    "    If n1 == n2 == n, this is a rule of order 2*n-1, using n**2 points.\n",
    "    '''\n",
    "    nodes1, weights1 = gauss_legendre(n1)\n",
    "    nodes2, weights2 = gauss_legendre(n2)\n",
    "    x_nodes = np.tile(nodes1, n2)\n",
    "    y_nodes = np.repeat(nodes2, n1)\n",
    "    weights = np.tile(weights1, n2) * np.repeat(weights2, n1)\n",
    "    return (x_nodes, y_nodes), weights"
   ]
  },
  {
   "cell_type": "code",
   "execution_count": 39,
   "metadata": {},
   "outputs": [
    {
     "name": "stdout",
     "output_type": "stream",
     "text": [
      "[-0.77459667  0.          0.77459667 -0.77459667  0.          0.77459667\n",
      " -0.77459667  0.          0.77459667]\n",
      "[-0.77459667 -0.77459667 -0.77459667  0.          0.          0.\n",
      "  0.77459667  0.77459667  0.77459667]\n",
      "-0.7745966692414834\n",
      "[0.30864198 0.49382716 0.30864198 0.49382716 0.79012346 0.49382716\n",
      " 0.30864198 0.49382716 0.30864198]\n",
      "2\n",
      "((array([-0.77459667,  0.        ,  0.77459667, -0.77459667,  0.        ,\n",
      "        0.77459667, -0.77459667,  0.        ,  0.77459667]), array([-0.77459667, -0.77459667, -0.77459667,  0.        ,  0.        ,\n",
      "        0.        ,  0.77459667,  0.77459667,  0.77459667])), array([0.30864198, 0.49382716, 0.30864198, 0.49382716, 0.79012346,\n",
      "       0.49382716, 0.30864198, 0.49382716, 0.30864198]))\n"
     ]
    }
   ],
   "source": [
    "ans = prod_gauss(3,3)\n",
    "print(ans[0][0])\n",
    "print(ans[0][1])\n",
    "print(ans[0][0][0])\n",
    "print(ans[1])\n",
    "\n",
    "print(len(ans[0]))\n",
    "print(ans)"
   ]
  },
  {
   "cell_type": "code",
   "execution_count": 43,
   "metadata": {},
   "outputs": [
    {
     "name": "stdout",
     "output_type": "stream",
     "text": [
      "0.308641975308642\n",
      "0.49382716049382713\n",
      "0.308641975308642\n",
      "0.49382716049382713\n",
      "0.7901234567901234\n",
      "0.49382716049382713\n",
      "0.308641975308642\n",
      "0.49382716049382713\n",
      "0.308641975308642\n"
     ]
    }
   ],
   "source": [
    "c32=0.88888888888888888888\n",
    "c31=c33=0.5555555555555555555\n",
    "print(c31*c31)\n",
    "print(c31*c32)\n",
    "print(c31*c33)\n",
    "print(c32*c31)\n",
    "print(c32*c32)\n",
    "print(c32*c33)\n",
    "print(c33*c31)\n",
    "print(c33*c32)\n",
    "print(c33*c33)"
   ]
  }
 ],
 "metadata": {
  "kernelspec": {
   "display_name": "Python 3",
   "language": "python",
   "name": "python3"
  },
  "language_info": {
   "codemirror_mode": {
    "name": "ipython",
    "version": 3
   },
   "file_extension": ".py",
   "mimetype": "text/x-python",
   "name": "python",
   "nbconvert_exporter": "python",
   "pygments_lexer": "ipython3",
   "version": "3.10.7"
  }
 },
 "nbformat": 4,
 "nbformat_minor": 2
}
