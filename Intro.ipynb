{
 "cells": [
  {
   "cell_type": "markdown",
   "metadata": {},
   "source": [
    "Introducción a Python "
   ]
  },
  {
   "cell_type": "markdown",
   "metadata": {},
   "source": [
    "Tipos de datos primitivos de Python :\n",
    "\n",
    "Tipo de dato    | Descripción \n",
    "----------------|-------------------\n",
    "str             | Representa cadenas de caracteres (String)\n",
    "int             | Representa a un número entero (integer)\n",
    "float           | Representa un número de punto flotante\n",
    "complex         | Representa un número complejo\n",
    "bool            | Representa un valor booleano verdadero o falso\n",
    "Nonetype        | Representa un valor nulo"
   ]
  },
  {
   "cell_type": "code",
   "execution_count": 3,
   "metadata": {},
   "outputs": [],
   "source": [
    "nom = \"Pedro\"\n",
    "apell = 'Gonzales'"
   ]
  }
 ],
 "metadata": {
  "kernelspec": {
   "display_name": "Python 3.10.6 64-bit (windows store)",
   "language": "python",
   "name": "python3"
  },
  "language_info": {
   "codemirror_mode": {
    "name": "ipython",
    "version": 3
   },
   "file_extension": ".py",
   "mimetype": "text/x-python",
   "name": "python",
   "nbconvert_exporter": "python",
   "pygments_lexer": "ipython3",
   "version": "3.10.6"
  },
  "orig_nbformat": 4,
  "vscode": {
   "interpreter": {
    "hash": "ffd3508fdfd41c2fe8b2bf4437351a5f803aaa8ccdd420424324dd9aa6fbc0f8"
   }
  }
 },
 "nbformat": 4,
 "nbformat_minor": 2
}
